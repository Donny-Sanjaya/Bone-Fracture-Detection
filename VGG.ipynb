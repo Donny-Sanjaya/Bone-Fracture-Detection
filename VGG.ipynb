{
 "cells": [
  {
   "cell_type": "code",
   "execution_count": 2,
   "metadata": {},
   "outputs": [],
   "source": [
    "import numpy as np #for numerical computations\n",
    "import pandas as pd #for dataframe operations\n",
    "\n",
    "from matplotlib import pyplot as plt #for viewing images and plots\n",
    "%matplotlib inline \n",
    "#So that Matplotlib plots don't open in separate windows outside the notebook\n",
    "\n",
    "import urllib #For fetching data from Web URLs\n",
    "\n",
    "import cv2   #For image processing\n",
    "\n",
    "from sklearn.preprocessing import LabelEncoder    #For encoding categorical variables\n",
    "from sklearn.model_selection import train_test_split #For splitting of dataset\n",
    "\n",
    "#All tensorflow utilities for creating, training and working with a CNN\n",
    "from tensorflow.keras.utils import to_categorical\n",
    "from tensorflow.keras.models import Sequential\n",
    "from tensorflow.keras.layers import Conv2D, MaxPool2D, BatchNormalization\n",
    "from tensorflow.keras.layers import Activation, Dropout, Flatten, Dense\n",
    "from tensorflow.keras.losses import categorical_crossentropy\n",
    "from tensorflow.keras.optimizers import Adam\n",
    "from tensorflow.keras.callbacks import ModelCheckpoint\n",
    "from tensorflow.keras.models import load_model\n",
    "from tensorflow.keras.applications.vgg16 import VGG16\n",
    "from tensorflow.keras import layers \n",
    "from tensorflow.keras import Model \n",
    "from tensorflow.keras.optimizers import Adamax\n",
    "import tensorflow as tf \n",
    "from IPython.core.interactiveshell import InteractiveShell\n",
    "InteractiveShell.ast_node_interactivity = 'all'"
   ]
  },
  {
   "cell_type": "code",
   "execution_count": 3,
   "metadata": {},
   "outputs": [],
   "source": [
    "def prepare_data(file_name):\n",
    "    df = pd.read_csv(r'{}'.format(file_name), names=[\"path\", \"target\"])\n",
    "    print(df[\"path\"].head())\n",
    "    np.where(df.applymap(lambda x: x == ''))\n",
    "    \n",
    "    # X Input Data\n",
    "    image_list = []\n",
    "\n",
    "    for path in df['path'] :\n",
    "#         print(path) \n",
    "        image_arr = cv2.imread(path)\n",
    "        image_224x224 = cv2.resize(image_arr, (150, 150))\n",
    "        image_list.append(image_224x224.astype('float')) \n",
    "    X = np.array(image_list)\n",
    "    print(\"Total Data = \", X.shape)\n",
    "\n",
    "    # Y Output Data\n",
    "    encoder = LabelEncoder()\n",
    "    Targets = encoder.fit_transform(df['target'])\n",
    "    n_classes = 2\n",
    "    Y = to_categorical(Targets, num_classes = n_classes)\n",
    "    \n",
    "    return X, Y"
   ]
  },
  {
   "cell_type": "markdown",
   "metadata": {},
   "source": [
    "**Dataset Hand**"
   ]
  },
  {
   "cell_type": "code",
   "execution_count": 6,
   "metadata": {},
   "outputs": [],
   "source": [
    "objek = 'hand'"
   ]
  },
  {
   "cell_type": "code",
   "execution_count": 6,
   "metadata": {},
   "outputs": [
    {
     "name": "stdout",
     "output_type": "stream",
     "text": [
      "0    MURA-v1.1/train/XR_HAND/patient10169/study1_ne...\n",
      "1    MURA-v1.1/train/XR_HAND/patient10121/study1_po...\n",
      "2    MURA-v1.1/train/XR_HAND/patient09111/study1_ne...\n",
      "3    MURA-v1.1/train/XR_HAND/patient11008/study1_ne...\n",
      "4    MURA-v1.1/train/XR_HAND/patient09780/study1_po...\n",
      "Name: path, dtype: object\n",
      "Total Data =  (5543, 150, 150, 3)\n",
      "Data Train (4711, 150, 150, 3)\n",
      "Data Val (832, 150, 150, 3)\n"
     ]
    }
   ],
   "source": [
    "X, Y = prepare_data(\"{}_with_label_randomized.csv\".format(objek))\n",
    "X = X/255\n",
    "X_train, X_val, Y_train, Y_val = train_test_split(X, Y, test_size=0.15, random_state=13)\n",
    "print(\"Data Train\", X_train.shape)\n",
    "print(\"Data Val\", X_val.shape)"
   ]
  },
  {
   "cell_type": "code",
   "execution_count": 4,
   "metadata": {},
   "outputs": [],
   "source": [
    "vgg_model = VGG16(input_shape = (150, 150, 3), include_top = False, weights = 'imagenet')\n",
    "\n",
    "for layer in vgg_model.layers:\n",
    "    layer.trainable = False\n",
    "\n",
    "x = layers.Flatten()(vgg_model.output)\n",
    "x = layers.Dense(128, activation='relu')(x)\n",
    "x = layers.Dropout(0.2)(x)\n",
    "x = layers.Dense(2, activation='softmax')(x)\n",
    "\n",
    "model = tf.keras.models.Model(vgg_model.input, x)\n",
    "\n",
    "model.compile(optimizer = Adamax(learning_rate=0.0001), loss = 'binary_crossentropy',metrics = ['acc'])"
   ]
  },
  {
   "cell_type": "code",
   "execution_count": 8,
   "metadata": {},
   "outputs": [
    {
     "name": "stdout",
     "output_type": "stream",
     "text": [
      "Epoch 1/20\n",
      "148/148 [==============================] - 524s 4s/step - loss: 0.5841 - acc: 0.7281 - val_loss: 0.5581 - val_acc: 0.7428\n",
      "Epoch 2/20\n",
      "148/148 [==============================] - 495s 3s/step - loss: 0.5634 - acc: 0.7304 - val_loss: 0.5533 - val_acc: 0.7428\n",
      "Epoch 3/20\n",
      "148/148 [==============================] - 512s 3s/step - loss: 0.5575 - acc: 0.7313 - val_loss: 0.5538 - val_acc: 0.7488\n",
      "Epoch 4/20\n",
      "148/148 [==============================] - 466s 3s/step - loss: 0.5474 - acc: 0.7334 - val_loss: 0.5488 - val_acc: 0.7464\n",
      "Epoch 5/20\n",
      "148/148 [==============================] - 464s 3s/step - loss: 0.5416 - acc: 0.7349 - val_loss: 0.5465 - val_acc: 0.7488\n",
      "Epoch 6/20\n",
      "148/148 [==============================] - 502s 3s/step - loss: 0.5360 - acc: 0.7395 - val_loss: 0.5448 - val_acc: 0.7488\n",
      "Epoch 7/20\n",
      "148/148 [==============================] - 502s 3s/step - loss: 0.5329 - acc: 0.7453 - val_loss: 0.5425 - val_acc: 0.7476\n",
      "Epoch 8/20\n",
      "148/148 [==============================] - 482s 3s/step - loss: 0.5258 - acc: 0.7461 - val_loss: 0.5426 - val_acc: 0.7536\n",
      "Epoch 9/20\n",
      "148/148 [==============================] - 499s 3s/step - loss: 0.5214 - acc: 0.7546 - val_loss: 0.5378 - val_acc: 0.7548\n",
      "Epoch 10/20\n",
      "148/148 [==============================] - 477s 3s/step - loss: 0.5187 - acc: 0.7559 - val_loss: 0.5392 - val_acc: 0.7560\n",
      "Epoch 11/20\n",
      "148/148 [==============================] - 550s 4s/step - loss: 0.5158 - acc: 0.7586 - val_loss: 0.5366 - val_acc: 0.7536\n",
      "Epoch 12/20\n",
      "148/148 [==============================] - 463s 3s/step - loss: 0.5115 - acc: 0.7599 - val_loss: 0.5336 - val_acc: 0.7584\n",
      "Epoch 13/20\n",
      "148/148 [==============================] - 481s 3s/step - loss: 0.5069 - acc: 0.7635 - val_loss: 0.5308 - val_acc: 0.7572\n",
      "Epoch 14/20\n",
      "148/148 [==============================] - 469s 3s/step - loss: 0.5046 - acc: 0.7691 - val_loss: 0.5282 - val_acc: 0.7572\n",
      "Epoch 15/20\n",
      "148/148 [==============================] - 490s 3s/step - loss: 0.5012 - acc: 0.7693 - val_loss: 0.5353 - val_acc: 0.7620\n",
      "Epoch 16/20\n",
      "148/148 [==============================] - 470s 3s/step - loss: 0.4952 - acc: 0.7724 - val_loss: 0.5281 - val_acc: 0.7680\n",
      "Epoch 17/20\n",
      "148/148 [==============================] - 466s 3s/step - loss: 0.4915 - acc: 0.7746 - val_loss: 0.5330 - val_acc: 0.7608\n",
      "Epoch 18/20\n",
      "148/148 [==============================] - 479s 3s/step - loss: 0.4904 - acc: 0.7812 - val_loss: 0.5232 - val_acc: 0.7680\n",
      "Epoch 19/20\n",
      "148/148 [==============================] - 461s 3s/step - loss: 0.4860 - acc: 0.7765 - val_loss: 0.5251 - val_acc: 0.7596\n",
      "Epoch 20/20\n",
      "148/148 [==============================] - 475s 3s/step - loss: 0.4820 - acc: 0.7848 - val_loss: 0.5210 - val_acc: 0.7716\n"
     ]
    }
   ],
   "source": [
    "save_at = \"VGG_Model/vgg_{}.h5\".format(objek)\n",
    "save_best = ModelCheckpoint (save_at, monitor='val_acc', verbose=0, save_best_only=True, save_weights_only=False, mode='max')\n",
    "vgghist = model.fit(X_train, Y_train, validation_data = (X_val, Y_val), callbacks=[save_best], epochs = 20)"
   ]
  },
  {
   "cell_type": "code",
   "execution_count": 7,
   "metadata": {},
   "outputs": [
    {
     "name": "stdout",
     "output_type": "stream",
     "text": [
      "0    MURA-v1.1/valid/XR_HAND/patient11497/study1_po...\n",
      "1    MURA-v1.1/valid/XR_HAND/patient11497/study1_po...\n",
      "2    MURA-v1.1/valid/XR_HAND/patient11497/study1_po...\n",
      "3    MURA-v1.1/valid/XR_HAND/patient11498/study1_po...\n",
      "4    MURA-v1.1/valid/XR_HAND/patient11498/study1_po...\n",
      "Name: path, dtype: object\n",
      "Total Data =  (460, 150, 150, 3)\n"
     ]
    }
   ],
   "source": [
    "X_test, Y_test = prepare_data(\"{}_val_path_label.csv\".format(objek))"
   ]
  },
  {
   "cell_type": "code",
   "execution_count": 8,
   "metadata": {},
   "outputs": [
    {
     "name": "stdout",
     "output_type": "stream",
     "text": [
      "Accuracy over the test set: \n",
      "  58.91 %\n"
     ]
    }
   ],
   "source": [
    "model_load = load_model(\"Inception_Model/inception_{}.h5\".format(objek))\n",
    "score = model_load.evaluate(X_test, Y_test, verbose=0)\n",
    "print('Accuracy over the test set: \\n ', round((score[1]*100), 2), '%')"
   ]
  },
  {
   "cell_type": "markdown",
   "metadata": {},
   "source": [
    "**Dataset Humerus**"
   ]
  },
  {
   "cell_type": "code",
   "execution_count": 11,
   "metadata": {},
   "outputs": [],
   "source": [
    "objek = 'humerus'"
   ]
  },
  {
   "cell_type": "code",
   "execution_count": 4,
   "metadata": {},
   "outputs": [
    {
     "name": "stdout",
     "output_type": "stream",
     "text": [
      "0    MURA-v1.1/train/XR_HUMERUS/patient02717/study1...\n",
      "1    MURA-v1.1/train/XR_HUMERUS/patient02922/study1...\n",
      "2    MURA-v1.1/train/XR_HUMERUS/patient02746/study1...\n",
      "3    MURA-v1.1/train/XR_HUMERUS/patient02917/study1...\n",
      "4    MURA-v1.1/train/XR_HUMERUS/patient02739/study1...\n",
      "Name: path, dtype: object\n",
      "Total Data =  (1272, 150, 150, 3)\n",
      "Data Train (1081, 150, 150, 3)\n",
      "Data Val (191, 150, 150, 3)\n"
     ]
    }
   ],
   "source": [
    "X, Y = prepare_data(\"{}_with_label_randomized.csv\".format(objek))\n",
    "X = X/255\n",
    "X_train, X_val, Y_train, Y_val = train_test_split(X, Y, test_size=0.15, random_state=13)\n",
    "print(\"Data Train\", X_train.shape)\n",
    "print(\"Data Val\", X_val.shape)"
   ]
  },
  {
   "cell_type": "code",
   "execution_count": 7,
   "metadata": {},
   "outputs": [
    {
     "name": "stdout",
     "output_type": "stream",
     "text": [
      "Epoch 1/20\n",
      "34/34 [==============================] - 112s 3s/step - loss: 0.7036 - acc: 0.5523 - val_loss: 0.6698 - val_acc: 0.5759\n",
      "Epoch 2/20\n",
      "34/34 [==============================] - 121s 4s/step - loss: 0.6645 - acc: 0.6068 - val_loss: 0.6589 - val_acc: 0.6126\n",
      "Epoch 3/20\n",
      "34/34 [==============================] - 125s 4s/step - loss: 0.6468 - acc: 0.6457 - val_loss: 0.6403 - val_acc: 0.6597\n",
      "Epoch 4/20\n",
      "34/34 [==============================] - 126s 4s/step - loss: 0.6312 - acc: 0.6503 - val_loss: 0.6323 - val_acc: 0.6911\n",
      "Epoch 5/20\n",
      "34/34 [==============================] - 126s 4s/step - loss: 0.6171 - acc: 0.6660 - val_loss: 0.6401 - val_acc: 0.6440\n",
      "Epoch 6/20\n",
      "34/34 [==============================] - 105s 3s/step - loss: 0.5978 - acc: 0.6994 - val_loss: 0.6313 - val_acc: 0.6754\n",
      "Epoch 7/20\n",
      "34/34 [==============================] - 107s 3s/step - loss: 0.5858 - acc: 0.7151 - val_loss: 0.6181 - val_acc: 0.7016\n",
      "Epoch 8/20\n",
      "34/34 [==============================] - 107s 3s/step - loss: 0.5811 - acc: 0.7077 - val_loss: 0.6161 - val_acc: 0.6963\n",
      "Epoch 9/20\n",
      "34/34 [==============================] - 107s 3s/step - loss: 0.5711 - acc: 0.7169 - val_loss: 0.6160 - val_acc: 0.7016\n",
      "Epoch 10/20\n",
      "34/34 [==============================] - 106s 3s/step - loss: 0.5566 - acc: 0.7401 - val_loss: 0.6153 - val_acc: 0.7016\n",
      "Epoch 11/20\n",
      "34/34 [==============================] - 106s 3s/step - loss: 0.5489 - acc: 0.7493 - val_loss: 0.6065 - val_acc: 0.6754\n",
      "Epoch 12/20\n",
      "34/34 [==============================] - 104s 3s/step - loss: 0.5404 - acc: 0.7502 - val_loss: 0.6073 - val_acc: 0.7016\n",
      "Epoch 13/20\n",
      "34/34 [==============================] - 105s 3s/step - loss: 0.5352 - acc: 0.7567 - val_loss: 0.6118 - val_acc: 0.6859\n",
      "Epoch 14/20\n",
      "34/34 [==============================] - 105s 3s/step - loss: 0.5192 - acc: 0.7632 - val_loss: 0.6067 - val_acc: 0.6911\n",
      "Epoch 15/20\n",
      "34/34 [==============================] - 118s 4s/step - loss: 0.5147 - acc: 0.7715 - val_loss: 0.5969 - val_acc: 0.6963\n",
      "Epoch 16/20\n",
      "34/34 [==============================] - 105s 3s/step - loss: 0.5154 - acc: 0.7780 - val_loss: 0.5986 - val_acc: 0.6806\n",
      "Epoch 17/20\n",
      "34/34 [==============================] - 106s 3s/step - loss: 0.5038 - acc: 0.7715 - val_loss: 0.5943 - val_acc: 0.6963\n",
      "Epoch 18/20\n",
      "34/34 [==============================] - 106s 3s/step - loss: 0.4936 - acc: 0.7854 - val_loss: 0.6028 - val_acc: 0.6859\n",
      "Epoch 19/20\n",
      "34/34 [==============================] - 118s 3s/step - loss: 0.4886 - acc: 0.7946 - val_loss: 0.6064 - val_acc: 0.6754\n",
      "Epoch 20/20\n",
      "34/34 [==============================] - 115s 3s/step - loss: 0.4870 - acc: 0.7891 - val_loss: 0.5954 - val_acc: 0.6911\n"
     ]
    }
   ],
   "source": [
    "save_at = \"VGG_Model/vgg_{}.h5\".format(objek)\n",
    "save_best = ModelCheckpoint (save_at, monitor='val_acc', verbose=0, save_best_only=True, save_weights_only=False, mode='max')\n",
    "vgghist = model.fit(X_train, Y_train, validation_data = (X_val, Y_val), callbacks=[save_best], epochs = 20)"
   ]
  },
  {
   "cell_type": "code",
   "execution_count": 12,
   "metadata": {},
   "outputs": [
    {
     "name": "stdout",
     "output_type": "stream",
     "text": [
      "0    MURA-v1.1/valid/XR_HUMERUS/patient11608/study1...\n",
      "1    MURA-v1.1/valid/XR_HUMERUS/patient11608/study1...\n",
      "2    MURA-v1.1/valid/XR_HUMERUS/patient11214/study1...\n",
      "3    MURA-v1.1/valid/XR_HUMERUS/patient11214/study1...\n",
      "4    MURA-v1.1/valid/XR_HUMERUS/patient11609/study1...\n",
      "Name: path, dtype: object\n",
      "Total Data =  (288, 150, 150, 3)\n"
     ]
    }
   ],
   "source": [
    "X_test, Y_test = prepare_data(\"{}_val_path_label.csv\".format(objek))"
   ]
  },
  {
   "cell_type": "code",
   "execution_count": 13,
   "metadata": {},
   "outputs": [
    {
     "name": "stdout",
     "output_type": "stream",
     "text": [
      "Accuracy over the test set: \n",
      "  50.0 %\n"
     ]
    }
   ],
   "source": [
    "model_load = load_model(\"Inception_Model/inception_{}.h5\".format(objek))\n",
    "score = model_load.evaluate(X_test, Y_test, verbose=0)\n",
    "print('Accuracy over the test set: \\n ', round((score[1]*100), 2), '%')"
   ]
  },
  {
   "cell_type": "markdown",
   "metadata": {},
   "source": [
    "**Shoulder Dataset**"
   ]
  },
  {
   "cell_type": "code",
   "execution_count": 14,
   "metadata": {},
   "outputs": [],
   "source": [
    "objek = 'shoulder'"
   ]
  },
  {
   "cell_type": "code",
   "execution_count": 9,
   "metadata": {},
   "outputs": [
    {
     "name": "stdout",
     "output_type": "stream",
     "text": [
      "0    MURA-v1.1/train/XR_SHOULDER/patient01685/study...\n",
      "1    MURA-v1.1/train/XR_SHOULDER/patient02206/study...\n",
      "2    MURA-v1.1/train/XR_SHOULDER/patient01976/study...\n",
      "3    MURA-v1.1/train/XR_SHOULDER/patient01071/study...\n",
      "4    MURA-v1.1/train/XR_SHOULDER/patient02526/study...\n",
      "Name: path, dtype: object\n",
      "Total Data =  (8364, 150, 150, 3)\n",
      "Data Train (7109, 150, 150, 3)\n",
      "Data Val (1255, 150, 150, 3)\n"
     ]
    }
   ],
   "source": [
    "X, Y = prepare_data(\"{}_with_label_randomized.csv\".format(objek))\n",
    "X = X/255\n",
    "X_train, X_val, Y_train, Y_val = train_test_split(X, Y, test_size=0.15, random_state=13)\n",
    "print(\"Data Train\", X_train.shape)\n",
    "print(\"Data Val\", X_val.shape)"
   ]
  },
  {
   "cell_type": "code",
   "execution_count": 10,
   "metadata": {},
   "outputs": [
    {
     "name": "stdout",
     "output_type": "stream",
     "text": [
      "Epoch 1/20\n",
      "223/223 [==============================] - 803s 4s/step - loss: 0.6841 - acc: 0.5624 - val_loss: 0.6739 - val_acc: 0.5849\n",
      "Epoch 2/20\n",
      "223/223 [==============================] - 738s 3s/step - loss: 0.6536 - acc: 0.6140 - val_loss: 0.6604 - val_acc: 0.6096\n",
      "Epoch 3/20\n",
      "223/223 [==============================] - 754s 3s/step - loss: 0.6409 - acc: 0.6390 - val_loss: 0.6503 - val_acc: 0.6311\n",
      "Epoch 4/20\n",
      "223/223 [==============================] - 788s 4s/step - loss: 0.6303 - acc: 0.6500 - val_loss: 0.6436 - val_acc: 0.6390\n",
      "Epoch 5/20\n",
      "223/223 [==============================] - 696s 3s/step - loss: 0.6191 - acc: 0.6662 - val_loss: 0.6406 - val_acc: 0.6375\n",
      "Epoch 6/20\n",
      "223/223 [==============================] - 694s 3s/step - loss: 0.6121 - acc: 0.6731 - val_loss: 0.6376 - val_acc: 0.6462\n",
      "Epoch 7/20\n",
      "223/223 [==============================] - 698s 3s/step - loss: 0.6055 - acc: 0.6838 - val_loss: 0.6317 - val_acc: 0.6590\n",
      "Epoch 8/20\n",
      "223/223 [==============================] - 745s 3s/step - loss: 0.5978 - acc: 0.6904 - val_loss: 0.6285 - val_acc: 0.6645\n",
      "Epoch 9/20\n",
      "223/223 [==============================] - 851s 4s/step - loss: 0.5945 - acc: 0.6952 - val_loss: 0.6267 - val_acc: 0.6653\n",
      "Epoch 10/20\n",
      "223/223 [==============================] - 751s 3s/step - loss: 0.5868 - acc: 0.7007 - val_loss: 0.6227 - val_acc: 0.6629\n",
      "Epoch 11/20\n",
      "223/223 [==============================] - 734s 3s/step - loss: 0.5845 - acc: 0.6966 - val_loss: 0.6205 - val_acc: 0.6709\n",
      "Epoch 12/20\n",
      "223/223 [==============================] - 723s 3s/step - loss: 0.5778 - acc: 0.7094 - val_loss: 0.6188 - val_acc: 0.6709\n",
      "Epoch 13/20\n",
      "223/223 [==============================] - 722s 3s/step - loss: 0.5734 - acc: 0.7112 - val_loss: 0.6169 - val_acc: 0.6701\n",
      "Epoch 14/20\n",
      "223/223 [==============================] - 737s 3s/step - loss: 0.5682 - acc: 0.7159 - val_loss: 0.6150 - val_acc: 0.6693\n",
      "Epoch 15/20\n",
      "223/223 [==============================] - 728s 3s/step - loss: 0.5625 - acc: 0.7275 - val_loss: 0.6148 - val_acc: 0.6733\n",
      "Epoch 16/20\n",
      "223/223 [==============================] - 743s 3s/step - loss: 0.5607 - acc: 0.7223 - val_loss: 0.6136 - val_acc: 0.6709\n",
      "Epoch 17/20\n",
      "223/223 [==============================] - 732s 3s/step - loss: 0.5568 - acc: 0.7295 - val_loss: 0.6097 - val_acc: 0.6709\n",
      "Epoch 18/20\n",
      "223/223 [==============================] - 719s 3s/step - loss: 0.5515 - acc: 0.7329 - val_loss: 0.6094 - val_acc: 0.6773\n",
      "Epoch 19/20\n",
      "223/223 [==============================] - 726s 3s/step - loss: 0.5477 - acc: 0.7377 - val_loss: 0.6153 - val_acc: 0.6661\n",
      "Epoch 20/20\n",
      "223/223 [==============================] - 729s 3s/step - loss: 0.5450 - acc: 0.7312 - val_loss: 0.6169 - val_acc: 0.6733\n"
     ]
    }
   ],
   "source": [
    "save_at = \"VGG_Model/vgg_{}.h5\".format(objek)\n",
    "save_best = ModelCheckpoint (save_at, monitor='val_acc', verbose=0, save_best_only=True, save_weights_only=False, mode='max')\n",
    "vgghist = model.fit(X_train, Y_train, validation_data = (X_val, Y_val), callbacks=[save_best], epochs = 20)"
   ]
  },
  {
   "cell_type": "code",
   "execution_count": 15,
   "metadata": {},
   "outputs": [
    {
     "name": "stdout",
     "output_type": "stream",
     "text": [
      "0    MURA-v1.1/valid/XR_SHOULDER/patient11676/study...\n",
      "1    MURA-v1.1/valid/XR_SHOULDER/patient11676/study...\n",
      "2    MURA-v1.1/valid/XR_SHOULDER/patient11676/study...\n",
      "3    MURA-v1.1/valid/XR_SHOULDER/patient11703/study...\n",
      "4    MURA-v1.1/valid/XR_SHOULDER/patient11703/study...\n",
      "Name: path, dtype: object\n",
      "Total Data =  (563, 150, 150, 3)\n"
     ]
    }
   ],
   "source": [
    "X_test, Y_test = prepare_data(\"{}_val_path_label.csv\".format(objek))"
   ]
  },
  {
   "cell_type": "code",
   "execution_count": 16,
   "metadata": {},
   "outputs": [
    {
     "name": "stdout",
     "output_type": "stream",
     "text": [
      "Accuracy over the test set: \n",
      "  50.44 %\n"
     ]
    }
   ],
   "source": [
    "model_load = load_model(\"Inception_Model/inception_{}.h5\".format(objek))\n",
    "score = model_load.evaluate(X_test, Y_test, verbose=0)\n",
    "print('Accuracy over the test set: \\n ', round((score[1]*100), 2), '%')"
   ]
  },
  {
   "cell_type": "markdown",
   "metadata": {},
   "source": [
    "**Wrist Dataset**"
   ]
  },
  {
   "cell_type": "code",
   "execution_count": 17,
   "metadata": {},
   "outputs": [],
   "source": [
    "objek = 'wrist'"
   ]
  },
  {
   "cell_type": "code",
   "execution_count": 5,
   "metadata": {},
   "outputs": [
    {
     "name": "stdout",
     "output_type": "stream",
     "text": [
      "0    MURA-v1.1/train/XR_WRIST/patient07688/study1_n...\n",
      "1    MURA-v1.1/train/XR_WRIST/patient06904/study1_p...\n",
      "2    MURA-v1.1/train/XR_WRIST/patient06806/study1_p...\n",
      "3    MURA-v1.1/train/XR_WRIST/patient06442/study1_p...\n",
      "4    MURA-v1.1/train/XR_WRIST/patient00305/study1_n...\n",
      "Name: path, dtype: object\n",
      "Total Data =  (9739, 150, 150, 3)\n",
      "Data Train (8278, 150, 150, 3)\n",
      "Data Val (1461, 150, 150, 3)\n"
     ]
    }
   ],
   "source": [
    "X, Y = prepare_data(\"{}_with_label_randomized.csv\".format(objek))\n",
    "X = X/255\n",
    "X_train, X_val, Y_train, Y_val = train_test_split(X, Y, test_size=0.15, random_state=13)\n",
    "print(\"Data Train\", X_train.shape)\n",
    "print(\"Data Val\", X_val.shape)"
   ]
  },
  {
   "cell_type": "code",
   "execution_count": 6,
   "metadata": {},
   "outputs": [
    {
     "name": "stdout",
     "output_type": "stream",
     "text": [
      "Epoch 1/20\n",
      "259/259 [==============================] - 2391s 9s/step - loss: 0.6337 - acc: 0.6499 - val_loss: 0.5917 - val_acc: 0.6940\n",
      "Epoch 2/20\n",
      "259/259 [==============================] - 1517s 6s/step - loss: 0.5767 - acc: 0.6982 - val_loss: 0.5633 - val_acc: 0.7050\n",
      "Epoch 3/20\n",
      "259/259 [==============================] - 1378s 5s/step - loss: 0.5506 - acc: 0.7202 - val_loss: 0.5450 - val_acc: 0.7358\n",
      "Epoch 4/20\n",
      "259/259 [==============================] - 842s 3s/step - loss: 0.5314 - acc: 0.7354 - val_loss: 0.5328 - val_acc: 0.7509\n",
      "Epoch 5/20\n",
      "259/259 [==============================] - 843s 3s/step - loss: 0.5194 - acc: 0.7418 - val_loss: 0.5235 - val_acc: 0.7413\n",
      "Epoch 6/20\n",
      "259/259 [==============================] - 804s 3s/step - loss: 0.5078 - acc: 0.7547 - val_loss: 0.5151 - val_acc: 0.7509\n",
      "Epoch 7/20\n",
      "259/259 [==============================] - 805s 3s/step - loss: 0.4996 - acc: 0.7597 - val_loss: 0.5101 - val_acc: 0.7563\n",
      "Epoch 8/20\n",
      "259/259 [==============================] - 816s 3s/step - loss: 0.4926 - acc: 0.7611 - val_loss: 0.5021 - val_acc: 0.7666\n",
      "Epoch 9/20\n",
      "259/259 [==============================] - 805s 3s/step - loss: 0.4846 - acc: 0.7655 - val_loss: 0.5008 - val_acc: 0.7659\n",
      "Epoch 10/20\n",
      "259/259 [==============================] - 803s 3s/step - loss: 0.4779 - acc: 0.7759 - val_loss: 0.4923 - val_acc: 0.7687\n",
      "Epoch 11/20\n",
      "259/259 [==============================] - 815s 3s/step - loss: 0.4726 - acc: 0.7816 - val_loss: 0.4873 - val_acc: 0.7734\n",
      "Epoch 12/20\n",
      "259/259 [==============================] - 818s 3s/step - loss: 0.4665 - acc: 0.7805 - val_loss: 0.4878 - val_acc: 0.7755\n",
      "Epoch 13/20\n",
      "259/259 [==============================] - 811s 3s/step - loss: 0.4612 - acc: 0.7835 - val_loss: 0.4854 - val_acc: 0.7700\n",
      "Epoch 14/20\n",
      "259/259 [==============================] - 807s 3s/step - loss: 0.4570 - acc: 0.7874 - val_loss: 0.4853 - val_acc: 0.7707\n",
      "Epoch 15/20\n",
      "259/259 [==============================] - 806s 3s/step - loss: 0.4524 - acc: 0.7905 - val_loss: 0.4801 - val_acc: 0.7810\n",
      "Epoch 16/20\n",
      "259/259 [==============================] - 819s 3s/step - loss: 0.4460 - acc: 0.7964 - val_loss: 0.4767 - val_acc: 0.7858\n",
      "Epoch 17/20\n",
      "259/259 [==============================] - 837s 3s/step - loss: 0.4421 - acc: 0.7935 - val_loss: 0.4748 - val_acc: 0.7810\n",
      "Epoch 18/20\n",
      "259/259 [==============================] - 808s 3s/step - loss: 0.4412 - acc: 0.7980 - val_loss: 0.4727 - val_acc: 0.7871\n",
      "Epoch 19/20\n",
      "259/259 [==============================] - 816s 3s/step - loss: 0.4354 - acc: 0.8001 - val_loss: 0.4711 - val_acc: 0.7823\n",
      "Epoch 20/20\n",
      "259/259 [==============================] - 807s 3s/step - loss: 0.4331 - acc: 0.8000 - val_loss: 0.4701 - val_acc: 0.7823\n"
     ]
    }
   ],
   "source": [
    "save_at = \"VGG_Model/vgg_{}.h5\".format(objek)\n",
    "save_best = ModelCheckpoint (save_at, monitor='val_acc', verbose=0, save_best_only=True, save_weights_only=False, mode='max')\n",
    "vgghist = model.fit(X_train, Y_train, validation_data = (X_val, Y_val), callbacks=[save_best], epochs = 20)"
   ]
  },
  {
   "cell_type": "code",
   "execution_count": 18,
   "metadata": {},
   "outputs": [
    {
     "name": "stdout",
     "output_type": "stream",
     "text": [
      "0    MURA-v1.1/valid/XR_WRIST/patient11185/study1_p...\n",
      "1    MURA-v1.1/valid/XR_WRIST/patient11185/study1_p...\n",
      "2    MURA-v1.1/valid/XR_WRIST/patient11185/study1_p...\n",
      "3    MURA-v1.1/valid/XR_WRIST/patient11185/study1_p...\n",
      "4    MURA-v1.1/valid/XR_WRIST/patient11186/study1_p...\n",
      "Name: path, dtype: object\n",
      "Total Data =  (659, 150, 150, 3)\n"
     ]
    }
   ],
   "source": [
    "X_test, Y_test = prepare_data(\"{}_val_path_label.csv\".format(objek))"
   ]
  },
  {
   "cell_type": "code",
   "execution_count": 19,
   "metadata": {},
   "outputs": [
    {
     "name": "stdout",
     "output_type": "stream",
     "text": [
      "Accuracy over the test set: \n",
      "  55.24 %\n"
     ]
    }
   ],
   "source": [
    "model_load = load_model(\"Inception_Model/inception_{}.h5\".format(objek))\n",
    "score = model_load.evaluate(X_test, Y_test, verbose=0)\n",
    "print('Accuracy over the test set: \\n ', round((score[1]*100), 2), '%')"
   ]
  },
  {
   "cell_type": "markdown",
   "metadata": {},
   "source": [
    "**Elbow Dataset**"
   ]
  },
  {
   "cell_type": "code",
   "execution_count": 20,
   "metadata": {},
   "outputs": [],
   "source": [
    "objek = 'elbow'"
   ]
  },
  {
   "cell_type": "code",
   "execution_count": 5,
   "metadata": {},
   "outputs": [
    {
     "name": "stdout",
     "output_type": "stream",
     "text": [
      "0    MURA-v1.1/train/XR_ELBOW/patient05456/study1_p...\n",
      "1    MURA-v1.1/train/XR_ELBOW/patient04779/study1_p...\n",
      "2    MURA-v1.1/train/XR_ELBOW/patient00222/study1_n...\n",
      "3    MURA-v1.1/train/XR_ELBOW/patient05301/study1_p...\n",
      "4    MURA-v1.1/train/XR_ELBOW/patient03193/study1_n...\n",
      "Name: path, dtype: object\n",
      "Total Data =  (4931, 150, 150, 3)\n",
      "Data Train (4191, 150, 150, 3)\n",
      "Data Val (740, 150, 150, 3)\n"
     ]
    }
   ],
   "source": [
    "X, Y = prepare_data(\"{}_with_label_randomized.csv\".format(objek))\n",
    "X = X/255\n",
    "X_train, X_val, Y_train, Y_val = train_test_split(X, Y, test_size=0.15, random_state=13)\n",
    "print(\"Data Train\", X_train.shape)\n",
    "print(\"Data Val\", X_val.shape)"
   ]
  },
  {
   "cell_type": "code",
   "execution_count": 6,
   "metadata": {},
   "outputs": [
    {
     "name": "stdout",
     "output_type": "stream",
     "text": [
      "Epoch 1/20\n",
      "131/131 [==============================] - 448s 3s/step - loss: 0.6816 - acc: 0.5944 - val_loss: 0.6351 - val_acc: 0.6662\n",
      "Epoch 2/20\n",
      "131/131 [==============================] - 435s 3s/step - loss: 0.6406 - acc: 0.6495 - val_loss: 0.6138 - val_acc: 0.6500\n",
      "Epoch 3/20\n",
      "131/131 [==============================] - 440s 3s/step - loss: 0.6226 - acc: 0.6698 - val_loss: 0.5970 - val_acc: 0.6716\n",
      "Epoch 4/20\n",
      "131/131 [==============================] - 431s 3s/step - loss: 0.6046 - acc: 0.6872 - val_loss: 0.5830 - val_acc: 0.7324\n",
      "Epoch 5/20\n",
      "131/131 [==============================] - 426s 3s/step - loss: 0.5916 - acc: 0.7079 - val_loss: 0.5695 - val_acc: 0.7095\n",
      "Epoch 6/20\n",
      "131/131 [==============================] - 406s 3s/step - loss: 0.5787 - acc: 0.7132 - val_loss: 0.5604 - val_acc: 0.7203\n",
      "Epoch 7/20\n",
      "131/131 [==============================] - 431s 3s/step - loss: 0.5727 - acc: 0.7184 - val_loss: 0.5545 - val_acc: 0.7432\n",
      "Epoch 8/20\n",
      "131/131 [==============================] - 436s 3s/step - loss: 0.5616 - acc: 0.7273 - val_loss: 0.5494 - val_acc: 0.7284\n",
      "Epoch 9/20\n",
      "131/131 [==============================] - 418s 3s/step - loss: 0.5557 - acc: 0.7394 - val_loss: 0.5486 - val_acc: 0.7527\n",
      "Epoch 10/20\n",
      "131/131 [==============================] - 413s 3s/step - loss: 0.5479 - acc: 0.7373 - val_loss: 0.5394 - val_acc: 0.7541\n",
      "Epoch 11/20\n",
      "131/131 [==============================] - 424s 3s/step - loss: 0.5422 - acc: 0.7414 - val_loss: 0.5329 - val_acc: 0.7378\n",
      "Epoch 12/20\n",
      "131/131 [==============================] - 436s 3s/step - loss: 0.5336 - acc: 0.7530 - val_loss: 0.5304 - val_acc: 0.7541\n",
      "Epoch 13/20\n",
      "131/131 [==============================] - 422s 3s/step - loss: 0.5263 - acc: 0.7504 - val_loss: 0.5255 - val_acc: 0.7378\n",
      "Epoch 14/20\n",
      "131/131 [==============================] - 425s 3s/step - loss: 0.5191 - acc: 0.7550 - val_loss: 0.5214 - val_acc: 0.7351\n",
      "Epoch 15/20\n",
      "131/131 [==============================] - 410s 3s/step - loss: 0.5153 - acc: 0.7571 - val_loss: 0.5175 - val_acc: 0.7595\n",
      "Epoch 16/20\n",
      "131/131 [==============================] - 418s 3s/step - loss: 0.5150 - acc: 0.7573 - val_loss: 0.5145 - val_acc: 0.7649\n",
      "Epoch 17/20\n",
      "131/131 [==============================] - 413s 3s/step - loss: 0.5081 - acc: 0.7640 - val_loss: 0.5143 - val_acc: 0.7486\n",
      "Epoch 18/20\n",
      "131/131 [==============================] - 430s 3s/step - loss: 0.5024 - acc: 0.7705 - val_loss: 0.5124 - val_acc: 0.7635\n",
      "Epoch 19/20\n",
      "131/131 [==============================] - 433s 3s/step - loss: 0.4960 - acc: 0.7700 - val_loss: 0.5060 - val_acc: 0.7743\n",
      "Epoch 20/20\n",
      "131/131 [==============================] - 431s 3s/step - loss: 0.4938 - acc: 0.7786 - val_loss: 0.5105 - val_acc: 0.7514\n"
     ]
    }
   ],
   "source": [
    "save_at = \"VGG_Model/vgg_{}.h5\".format(objek)\n",
    "save_best = ModelCheckpoint (save_at, monitor='val_acc', verbose=0, save_best_only=True, save_weights_only=False, mode='max')\n",
    "vgghist = model.fit(X_train, Y_train, validation_data = (X_val, Y_val), callbacks=[save_best], epochs = 20)"
   ]
  },
  {
   "cell_type": "code",
   "execution_count": 21,
   "metadata": {},
   "outputs": [
    {
     "name": "stdout",
     "output_type": "stream",
     "text": [
      "0    MURA-v1.1/valid/XR_ELBOW/patient11659/study1_p...\n",
      "1    MURA-v1.1/valid/XR_ELBOW/patient11659/study1_p...\n",
      "2    MURA-v1.1/valid/XR_ELBOW/patient11659/study1_p...\n",
      "3    MURA-v1.1/valid/XR_ELBOW/patient11802/study1_p...\n",
      "4    MURA-v1.1/valid/XR_ELBOW/patient11802/study1_p...\n",
      "Name: path, dtype: object\n",
      "Total Data =  (465, 150, 150, 3)\n"
     ]
    }
   ],
   "source": [
    "X_test, Y_test = prepare_data(\"{}_val_path_label.csv\".format(objek))"
   ]
  },
  {
   "cell_type": "code",
   "execution_count": 22,
   "metadata": {},
   "outputs": [
    {
     "name": "stdout",
     "output_type": "stream",
     "text": [
      "Accuracy over the test set: \n",
      "  53.33 %\n"
     ]
    }
   ],
   "source": [
    "model_load = load_model(\"Inception_Model/inception_{}.h5\".format(objek))\n",
    "score = model_load.evaluate(X_test, Y_test, verbose=0)\n",
    "print('Accuracy over the test set: \\n ', round((score[1]*100), 2), '%')"
   ]
  },
  {
   "cell_type": "markdown",
   "metadata": {},
   "source": [
    "**Finger Dataset**"
   ]
  },
  {
   "cell_type": "code",
   "execution_count": 23,
   "metadata": {},
   "outputs": [],
   "source": [
    "objek = 'finger'"
   ]
  },
  {
   "cell_type": "code",
   "execution_count": 24,
   "metadata": {},
   "outputs": [
    {
     "name": "stdout",
     "output_type": "stream",
     "text": [
      "0    MURA-v1.1/train/XR_FINGER/patient03402/study1_...\n",
      "1    MURA-v1.1/train/XR_FINGER/patient04428/study1_...\n",
      "2    MURA-v1.1/train/XR_FINGER/patient03833/study1_...\n",
      "3    MURA-v1.1/train/XR_FINGER/patient04139/study1_...\n",
      "4    MURA-v1.1/train/XR_FINGER/patient02922/study1_...\n",
      "Name: path, dtype: object\n",
      "Total Data =  (5106, 150, 150, 3)\n",
      "Data Train (4340, 150, 150, 3)\n",
      "Data Val (766, 150, 150, 3)\n"
     ]
    }
   ],
   "source": [
    "X, Y = prepare_data(\"{}_with_label_randomized.csv\".format(objek))\n",
    "X = X/255\n",
    "X_train, X_val, Y_train, Y_val = train_test_split(X, Y, test_size=0.15, random_state=13)\n",
    "print(\"Data Train\", X_train.shape)\n",
    "print(\"Data Val\", X_val.shape)"
   ]
  },
  {
   "cell_type": "code",
   "execution_count": 25,
   "metadata": {},
   "outputs": [
    {
     "name": "stdout",
     "output_type": "stream",
     "text": [
      "Epoch 1/20\n",
      "136/136 [==============================] - 477s 3s/step - loss: 0.6142 - acc: 0.6578 - val_loss: 0.5863 - val_acc: 0.6880\n",
      "Epoch 2/20\n",
      "136/136 [==============================] - 479s 4s/step - loss: 0.5690 - acc: 0.6998 - val_loss: 0.5713 - val_acc: 0.6919\n",
      "Epoch 3/20\n",
      "136/136 [==============================] - 458s 3s/step - loss: 0.5523 - acc: 0.7127 - val_loss: 0.5620 - val_acc: 0.6906\n",
      "Epoch 4/20\n",
      "136/136 [==============================] - 453s 3s/step - loss: 0.5417 - acc: 0.7062 - val_loss: 0.5651 - val_acc: 0.6854\n",
      "Epoch 5/20\n",
      "136/136 [==============================] - 450s 3s/step - loss: 0.5340 - acc: 0.7164 - val_loss: 0.5852 - val_acc: 0.6697\n",
      "Epoch 6/20\n",
      "136/136 [==============================] - 466s 3s/step - loss: 0.5233 - acc: 0.7362 - val_loss: 0.5533 - val_acc: 0.6971\n",
      "Epoch 7/20\n",
      "136/136 [==============================] - 453s 3s/step - loss: 0.5171 - acc: 0.7359 - val_loss: 0.5476 - val_acc: 0.6997\n",
      "Epoch 8/20\n",
      "136/136 [==============================] - 475s 3s/step - loss: 0.5101 - acc: 0.7392 - val_loss: 0.5470 - val_acc: 0.7050\n",
      "Epoch 9/20\n",
      "136/136 [==============================] - 472s 3s/step - loss: 0.5071 - acc: 0.7369 - val_loss: 0.5437 - val_acc: 0.6958\n",
      "Epoch 10/20\n",
      "136/136 [==============================] - 451s 3s/step - loss: 0.4985 - acc: 0.7500 - val_loss: 0.5495 - val_acc: 0.6828\n",
      "Epoch 11/20\n",
      "136/136 [==============================] - 447s 3s/step - loss: 0.4973 - acc: 0.7465 - val_loss: 0.5411 - val_acc: 0.7115\n",
      "Epoch 12/20\n",
      "136/136 [==============================] - 429s 3s/step - loss: 0.4901 - acc: 0.7588 - val_loss: 0.5382 - val_acc: 0.7010\n",
      "Epoch 13/20\n",
      "136/136 [==============================] - 432s 3s/step - loss: 0.4895 - acc: 0.7541 - val_loss: 0.5373 - val_acc: 0.7023\n",
      "Epoch 14/20\n",
      "136/136 [==============================] - 432s 3s/step - loss: 0.4839 - acc: 0.7576 - val_loss: 0.5363 - val_acc: 0.7010\n",
      "Epoch 15/20\n",
      "136/136 [==============================] - 454s 3s/step - loss: 0.4808 - acc: 0.7618 - val_loss: 0.5379 - val_acc: 0.7050\n",
      "Epoch 16/20\n",
      "136/136 [==============================] - 448s 3s/step - loss: 0.4742 - acc: 0.7576 - val_loss: 0.5350 - val_acc: 0.7010\n",
      "Epoch 17/20\n",
      "136/136 [==============================] - 458s 3s/step - loss: 0.4716 - acc: 0.7680 - val_loss: 0.5332 - val_acc: 0.7037\n",
      "Epoch 18/20\n",
      "136/136 [==============================] - 456s 3s/step - loss: 0.4704 - acc: 0.7740 - val_loss: 0.5329 - val_acc: 0.6997\n",
      "Epoch 19/20\n",
      "136/136 [==============================] - 448s 3s/step - loss: 0.4636 - acc: 0.7742 - val_loss: 0.5442 - val_acc: 0.7102\n",
      "Epoch 20/20\n",
      "136/136 [==============================] - 429s 3s/step - loss: 0.4590 - acc: 0.7781 - val_loss: 0.5320 - val_acc: 0.7167\n"
     ]
    }
   ],
   "source": [
    "save_at = \"VGG_Model/vgg_{}.h5\".format(objek)\n",
    "save_best = ModelCheckpoint (save_at, monitor='val_acc', verbose=0, save_best_only=True, save_weights_only=False, mode='max')\n",
    "vgghist = model.fit(X_train, Y_train, validation_data = (X_val, Y_val), callbacks=[save_best], epochs = 20)"
   ]
  },
  {
   "cell_type": "markdown",
   "metadata": {},
   "source": [
    "**Forearm Dataset**"
   ]
  },
  {
   "cell_type": "code",
   "execution_count": 26,
   "metadata": {},
   "outputs": [],
   "source": [
    "objek = 'forearm'"
   ]
  },
  {
   "cell_type": "code",
   "execution_count": 27,
   "metadata": {},
   "outputs": [
    {
     "name": "stdout",
     "output_type": "stream",
     "text": [
      "0    MURA-v1.1/train/XR_FOREARM/patient09614/study1...\n",
      "1    MURA-v1.1/train/XR_FOREARM/patient09541/study1...\n",
      "2    MURA-v1.1/train/XR_FOREARM/patient01951/study1...\n",
      "3    MURA-v1.1/train/XR_FOREARM/patient09113/study1...\n",
      "4    MURA-v1.1/train/XR_FOREARM/patient09552/study1...\n",
      "Name: path, dtype: object\n",
      "Total Data =  (1825, 150, 150, 3)\n",
      "Data Train (1551, 150, 150, 3)\n",
      "Data Val (274, 150, 150, 3)\n"
     ]
    }
   ],
   "source": [
    "X, Y = prepare_data(\"{}_with_label_randomized.csv\".format(objek))\n",
    "X = X/255\n",
    "X_train, X_val, Y_train, Y_val = train_test_split(X, Y, test_size=0.15, random_state=13)\n",
    "print(\"Data Train\", X_train.shape)\n",
    "print(\"Data Val\", X_val.shape)"
   ]
  },
  {
   "cell_type": "code",
   "execution_count": 28,
   "metadata": {},
   "outputs": [
    {
     "name": "stdout",
     "output_type": "stream",
     "text": [
      "Epoch 1/20\n",
      "49/49 [==============================] - 179s 4s/step - loss: 0.6522 - acc: 0.6402 - val_loss: 0.6561 - val_acc: 0.6022\n",
      "Epoch 2/20\n",
      "49/49 [==============================] - 156s 3s/step - loss: 0.6101 - acc: 0.6557 - val_loss: 0.6265 - val_acc: 0.6314\n",
      "Epoch 3/20\n",
      "49/49 [==============================] - 155s 3s/step - loss: 0.5947 - acc: 0.6828 - val_loss: 0.6301 - val_acc: 0.6496\n",
      "Epoch 4/20\n",
      "49/49 [==============================] - 154s 3s/step - loss: 0.5837 - acc: 0.7002 - val_loss: 0.6198 - val_acc: 0.6679\n",
      "Epoch 5/20\n",
      "49/49 [==============================] - 158s 3s/step - loss: 0.5707 - acc: 0.7054 - val_loss: 0.6186 - val_acc: 0.6679\n",
      "Epoch 6/20\n",
      "49/49 [==============================] - 158s 3s/step - loss: 0.5671 - acc: 0.7157 - val_loss: 0.6158 - val_acc: 0.6679\n",
      "Epoch 7/20\n",
      "49/49 [==============================] - 165s 3s/step - loss: 0.5535 - acc: 0.7286 - val_loss: 0.6042 - val_acc: 0.6825\n",
      "Epoch 8/20\n",
      "49/49 [==============================] - 157s 3s/step - loss: 0.5513 - acc: 0.7240 - val_loss: 0.6089 - val_acc: 0.6788\n",
      "Epoch 9/20\n",
      "49/49 [==============================] - 174s 4s/step - loss: 0.5437 - acc: 0.7415 - val_loss: 0.6060 - val_acc: 0.6934\n",
      "Epoch 10/20\n",
      "49/49 [==============================] - 167s 3s/step - loss: 0.5362 - acc: 0.7485 - val_loss: 0.5977 - val_acc: 0.7044\n",
      "Epoch 11/20\n",
      "49/49 [==============================] - 157s 3s/step - loss: 0.5266 - acc: 0.7556 - val_loss: 0.6010 - val_acc: 0.6971\n",
      "Epoch 12/20\n",
      "49/49 [==============================] - 155s 3s/step - loss: 0.5234 - acc: 0.7466 - val_loss: 0.5873 - val_acc: 0.7336\n",
      "Epoch 13/20\n",
      "49/49 [==============================] - 169s 3s/step - loss: 0.5167 - acc: 0.7589 - val_loss: 0.5884 - val_acc: 0.7190\n",
      "Epoch 14/20\n",
      "49/49 [==============================] - 168s 3s/step - loss: 0.5121 - acc: 0.7589 - val_loss: 0.5922 - val_acc: 0.7080\n",
      "Epoch 15/20\n",
      "49/49 [==============================] - 156s 3s/step - loss: 0.5082 - acc: 0.7672 - val_loss: 0.6155 - val_acc: 0.6752\n",
      "Epoch 16/20\n",
      "49/49 [==============================] - 163s 3s/step - loss: 0.5006 - acc: 0.7763 - val_loss: 0.5817 - val_acc: 0.7372\n",
      "Epoch 17/20\n",
      "49/49 [==============================] - 156s 3s/step - loss: 0.4884 - acc: 0.7737 - val_loss: 0.5834 - val_acc: 0.7336\n",
      "Epoch 18/20\n",
      "49/49 [==============================] - 157s 3s/step - loss: 0.4875 - acc: 0.7763 - val_loss: 0.5775 - val_acc: 0.7409\n",
      "Epoch 19/20\n",
      "49/49 [==============================] - 161s 3s/step - loss: 0.4804 - acc: 0.7821 - val_loss: 0.5779 - val_acc: 0.7518\n",
      "Epoch 20/20\n",
      "49/49 [==============================] - 161s 3s/step - loss: 0.4784 - acc: 0.7917 - val_loss: 0.5962 - val_acc: 0.6898\n"
     ]
    }
   ],
   "source": [
    "save_at = \"VGG_Model/vgg_{}.h5\".format(objek)\n",
    "save_best = ModelCheckpoint (save_at, monitor='val_acc', verbose=0, save_best_only=True, save_weights_only=False, mode='max')\n",
    "vgghist = model.fit(X_train, Y_train, validation_data = (X_val, Y_val), callbacks=[save_best], epochs = 20)"
   ]
  }
 ],
 "metadata": {
  "kernelspec": {
   "display_name": "Python 3.10.5 64-bit",
   "language": "python",
   "name": "python3"
  },
  "language_info": {
   "codemirror_mode": {
    "name": "ipython",
    "version": 3
   },
   "file_extension": ".py",
   "mimetype": "text/x-python",
   "name": "python",
   "nbconvert_exporter": "python",
   "pygments_lexer": "ipython3",
   "version": "3.10.5"
  },
  "orig_nbformat": 4,
  "vscode": {
   "interpreter": {
    "hash": "26de051ba29f2982a8de78e945f0abaf191376122a1563185a90213a26c5da77"
   }
  }
 },
 "nbformat": 4,
 "nbformat_minor": 2
}
