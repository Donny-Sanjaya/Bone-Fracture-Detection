{
 "cells": [
  {
   "cell_type": "code",
   "execution_count": 1,
   "metadata": {},
   "outputs": [],
   "source": [
    "import numpy as np #for numerical computations\n",
    "import pandas as pd #for dataframe operations\n",
    "\n",
    "from matplotlib import pyplot as plt #for viewing images and plots\n",
    "%matplotlib inline \n",
    "#So that Matplotlib plots don't open in separate windows outside the notebook\n",
    "\n",
    "import urllib #For fetching data from Web URLs\n",
    "\n",
    "import cv2   #For image processing\n",
    "\n",
    "from sklearn.preprocessing import LabelEncoder    #For encoding categorical variables\n",
    "from sklearn.model_selection import train_test_split #For splitting of dataset\n",
    "\n",
    "#All tensorflow utilities for creating, training and working with a CNN\n",
    "import tensorflow as tf \n",
    "from tensorflow.keras.utils import to_categorical\n",
    "from tensorflow.keras.models import Sequential\n",
    "from tensorflow.keras.layers import Conv2D, MaxPool2D, BatchNormalization\n",
    "from tensorflow.keras.layers import Activation, Dropout, Flatten, Dense\n",
    "from tensorflow.keras.losses import categorical_crossentropy\n",
    "from tensorflow.keras.optimizers import Adam\n",
    "from tensorflow.keras.callbacks import ModelCheckpoint\n",
    "from tensorflow.keras.models import load_model\n",
    "from tensorflow.keras import layers \n",
    "from tensorflow.keras import Model \n",
    "from tensorflow.keras.optimizers import Adamax\n",
    "from tensorflow.keras.applications import ResNet50\n",
    "from tensorflow.python.keras.models import Sequential\n",
    "from tensorflow.python.keras.layers import Dense, Flatten, GlobalAveragePooling2D\n",
    "from IPython.core.interactiveshell import InteractiveShell\n",
    "InteractiveShell.ast_node_interactivity = 'all'"
   ]
  },
  {
   "cell_type": "markdown",
   "metadata": {},
   "source": [
    "**Dataset Hand**"
   ]
  },
  {
   "cell_type": "code",
   "execution_count": 8,
   "metadata": {},
   "outputs": [],
   "source": [
    "objek = 'hand'"
   ]
  },
  {
   "cell_type": "code",
   "execution_count": 2,
   "metadata": {},
   "outputs": [],
   "source": [
    "def prepare_data(file_name):\n",
    "    df = pd.read_csv(r'{}'.format(file_name), names=[\"path\", \"target\"])\n",
    "    print(df[\"path\"].head())\n",
    "    np.where(df.applymap(lambda x: x == ''))\n",
    "    \n",
    "    # X Input Data\n",
    "    image_list = []\n",
    "\n",
    "    for path in df['path'] :\n",
    "#         print(path) \n",
    "        image_arr = cv2.imread(path)\n",
    "        image_224x224 = cv2.resize(image_arr, (150, 150))\n",
    "        image_list.append(image_224x224.astype('float')) \n",
    "    X = np.array(image_list)\n",
    "    print(\"Total Data = \", X.shape)\n",
    "\n",
    "    # Y Output Data\n",
    "    encoder = LabelEncoder()\n",
    "    Targets = encoder.fit_transform(df['target'])\n",
    "    n_classes = 2\n",
    "    Y = to_categorical(Targets, num_classes = n_classes)\n",
    "    \n",
    "    return X, Y"
   ]
  },
  {
   "cell_type": "code",
   "execution_count": 10,
   "metadata": {},
   "outputs": [
    {
     "name": "stdout",
     "output_type": "stream",
     "text": [
      "0    MURA-v1.1/train/XR_HAND/patient10169/study1_ne...\n",
      "1    MURA-v1.1/train/XR_HAND/patient10121/study1_po...\n",
      "2    MURA-v1.1/train/XR_HAND/patient09111/study1_ne...\n",
      "3    MURA-v1.1/train/XR_HAND/patient11008/study1_ne...\n",
      "4    MURA-v1.1/train/XR_HAND/patient09780/study1_po...\n",
      "Name: path, dtype: object\n",
      "Total Data =  (5543, 150, 150, 3)\n",
      "Data Train (4711, 150, 150, 3)\n",
      "Data Val (832, 150, 150, 3)\n"
     ]
    }
   ],
   "source": [
    "X, Y = prepare_data(\"{}_with_label_randomized.csv\".format(objek))\n",
    "X = X/255\n",
    "X_train, X_val, Y_train, Y_val = train_test_split(X, Y, test_size=0.15, random_state=13)\n",
    "print(\"Data Train\", X_train.shape)\n",
    "print(\"Data Val\", X_val.shape)"
   ]
  },
  {
   "cell_type": "code",
   "execution_count": 10,
   "metadata": {},
   "outputs": [],
   "source": [
    "# resnet_model = Sequential()\n",
    "# resnet_model.add(ResNet50(include_top=False, weights='imagenet', pooling='avg'))\n",
    "# resnet_model.add(Dense(2, activation='softmax'))\n",
    "\n",
    "# resnet_model.compile(optimizer = 'adamax', loss = 'binary_crossentropy', metrics = ['acc'])"
   ]
  },
  {
   "cell_type": "code",
   "execution_count": 3,
   "metadata": {},
   "outputs": [],
   "source": [
    "resnet_model = ResNet50(input_shape = (150, 150, 3), include_top = False, weights = 'imagenet')\n",
    "\n",
    "for layer in resnet_model.layers:\n",
    "    layer.trainable = False\n",
    "\n",
    "x = layers.Flatten()(resnet_model.output)\n",
    "x = layers.Dense(512, activation='relu')(x)\n",
    "x = layers.Dropout(0.2)(x)\n",
    "x = layers.Dense(2, activation='softmax')(x)\n",
    "\n",
    "model = tf.keras.models.Model(resnet_model.input, x)\n",
    "\n",
    "model.compile(optimizer = Adamax(learning_rate=0.0001), loss = 'binary_crossentropy',metrics = ['acc'])"
   ]
  },
  {
   "cell_type": "code",
   "execution_count": 13,
   "metadata": {},
   "outputs": [
    {
     "name": "stdout",
     "output_type": "stream",
     "text": [
      "Epoch 1/20\n",
      "148/148 [==============================] - 260s 2s/step - loss: 0.6049 - acc: 0.7285 - val_loss: 0.5682 - val_acc: 0.7428\n",
      "Epoch 2/20\n",
      "148/148 [==============================] - 252s 2s/step - loss: 0.5857 - acc: 0.7302 - val_loss: 0.5680 - val_acc: 0.7428\n",
      "Epoch 3/20\n",
      "148/148 [==============================] - 258s 2s/step - loss: 0.5840 - acc: 0.7304 - val_loss: 0.5755 - val_acc: 0.7428\n",
      "Epoch 4/20\n",
      "148/148 [==============================] - 252s 2s/step - loss: 0.5809 - acc: 0.7304 - val_loss: 0.5690 - val_acc: 0.7428\n",
      "Epoch 5/20\n",
      "148/148 [==============================] - 237s 2s/step - loss: 0.5801 - acc: 0.7304 - val_loss: 0.5651 - val_acc: 0.7428\n",
      "Epoch 6/20\n",
      "148/148 [==============================] - 228s 2s/step - loss: 0.5768 - acc: 0.7304 - val_loss: 0.5806 - val_acc: 0.7428\n",
      "Epoch 7/20\n",
      "148/148 [==============================] - 228s 2s/step - loss: 0.5789 - acc: 0.7304 - val_loss: 0.5651 - val_acc: 0.7428\n",
      "Epoch 8/20\n",
      "148/148 [==============================] - 228s 2s/step - loss: 0.5771 - acc: 0.7304 - val_loss: 0.5701 - val_acc: 0.7428\n",
      "Epoch 9/20\n",
      "148/148 [==============================] - 228s 2s/step - loss: 0.5793 - acc: 0.7304 - val_loss: 0.5650 - val_acc: 0.7428\n",
      "Epoch 10/20\n",
      "148/148 [==============================] - 228s 2s/step - loss: 0.5801 - acc: 0.7304 - val_loss: 0.5650 - val_acc: 0.7428\n",
      "Epoch 11/20\n",
      "148/148 [==============================] - 228s 2s/step - loss: 0.5772 - acc: 0.7304 - val_loss: 0.5693 - val_acc: 0.7428\n",
      "Epoch 12/20\n",
      "148/148 [==============================] - 228s 2s/step - loss: 0.5780 - acc: 0.7304 - val_loss: 0.5699 - val_acc: 0.7428\n",
      "Epoch 13/20\n",
      "148/148 [==============================] - 227s 2s/step - loss: 0.5762 - acc: 0.7304 - val_loss: 0.5648 - val_acc: 0.7428\n",
      "Epoch 14/20\n",
      "148/148 [==============================] - 228s 2s/step - loss: 0.5740 - acc: 0.7304 - val_loss: 0.5667 - val_acc: 0.7428\n",
      "Epoch 15/20\n",
      "148/148 [==============================] - 227s 2s/step - loss: 0.5760 - acc: 0.7304 - val_loss: 0.5648 - val_acc: 0.7428\n",
      "Epoch 16/20\n",
      "148/148 [==============================] - 229s 2s/step - loss: 0.5727 - acc: 0.7304 - val_loss: 0.5706 - val_acc: 0.7428\n",
      "Epoch 17/20\n",
      "148/148 [==============================] - 227s 2s/step - loss: 0.5747 - acc: 0.7304 - val_loss: 0.5648 - val_acc: 0.7428\n",
      "Epoch 18/20\n",
      "148/148 [==============================] - 228s 2s/step - loss: 0.5727 - acc: 0.7304 - val_loss: 0.5655 - val_acc: 0.7428\n",
      "Epoch 19/20\n",
      "148/148 [==============================] - 228s 2s/step - loss: 0.5742 - acc: 0.7304 - val_loss: 0.5683 - val_acc: 0.7428\n",
      "Epoch 20/20\n",
      "148/148 [==============================] - 231s 2s/step - loss: 0.5714 - acc: 0.7304 - val_loss: 0.5653 - val_acc: 0.7428\n"
     ]
    }
   ],
   "source": [
    "save_at = \"ResNet_Model/resnet_{}.h5\".format(objek)\n",
    "save_best = ModelCheckpoint (filepath = save_at, monitor='val_acc', save_best_only=True, save_freq='epoch', save_weights_only=False, mode='max')\n",
    "hist = model.fit(X_train, Y_train, validation_data = (X_val, Y_val), callbacks=[save_best], epochs = 20) "
   ]
  },
  {
   "cell_type": "markdown",
   "metadata": {},
   "source": [
    "**Dataset Humerus**"
   ]
  },
  {
   "cell_type": "code",
   "execution_count": 14,
   "metadata": {},
   "outputs": [],
   "source": [
    "objek = 'humerus'"
   ]
  },
  {
   "cell_type": "code",
   "execution_count": 15,
   "metadata": {},
   "outputs": [
    {
     "name": "stdout",
     "output_type": "stream",
     "text": [
      "0    MURA-v1.1/train/XR_HUMERUS/patient02717/study1...\n",
      "1    MURA-v1.1/train/XR_HUMERUS/patient02922/study1...\n",
      "2    MURA-v1.1/train/XR_HUMERUS/patient02746/study1...\n",
      "3    MURA-v1.1/train/XR_HUMERUS/patient02917/study1...\n",
      "4    MURA-v1.1/train/XR_HUMERUS/patient02739/study1...\n",
      "Name: path, dtype: object\n",
      "Total Data =  (1272, 150, 150, 3)\n",
      "Data Train (1081, 150, 150, 3)\n",
      "Data Val (191, 150, 150, 3)\n"
     ]
    }
   ],
   "source": [
    "X, Y = prepare_data(\"{}_with_label_randomized.csv\".format(objek))\n",
    "X = X/255\n",
    "X_train, X_val, Y_train, Y_val = train_test_split(X, Y, test_size=0.15, random_state=13)\n",
    "print(\"Data Train\", X_train.shape)\n",
    "print(\"Data Val\", X_val.shape)"
   ]
  },
  {
   "cell_type": "code",
   "execution_count": 16,
   "metadata": {},
   "outputs": [
    {
     "name": "stdout",
     "output_type": "stream",
     "text": [
      "Epoch 1/20\n",
      "34/34 [==============================] - 57s 2s/step - loss: 0.7121 - acc: 0.5199 - val_loss: 0.6955 - val_acc: 0.4869\n",
      "Epoch 2/20\n",
      "34/34 [==============================] - 54s 2s/step - loss: 0.6902 - acc: 0.5282 - val_loss: 0.6979 - val_acc: 0.4869\n",
      "Epoch 3/20\n",
      "34/34 [==============================] - 59s 2s/step - loss: 0.6884 - acc: 0.5532 - val_loss: 0.6971 - val_acc: 0.4974\n",
      "Epoch 4/20\n",
      "34/34 [==============================] - 55s 2s/step - loss: 0.6887 - acc: 0.5365 - val_loss: 0.6951 - val_acc: 0.4974\n",
      "Epoch 5/20\n",
      "34/34 [==============================] - 59s 2s/step - loss: 0.6886 - acc: 0.5301 - val_loss: 0.6922 - val_acc: 0.5079\n",
      "Epoch 6/20\n",
      "34/34 [==============================] - 53s 2s/step - loss: 0.6868 - acc: 0.5560 - val_loss: 0.6929 - val_acc: 0.5026\n",
      "Epoch 7/20\n",
      "34/34 [==============================] - 55s 2s/step - loss: 0.6840 - acc: 0.5486 - val_loss: 0.6942 - val_acc: 0.4974\n",
      "Epoch 8/20\n",
      "34/34 [==============================] - 56s 2s/step - loss: 0.6824 - acc: 0.5597 - val_loss: 0.6936 - val_acc: 0.5026\n",
      "Epoch 9/20\n",
      "34/34 [==============================] - 55s 2s/step - loss: 0.6844 - acc: 0.5291 - val_loss: 0.6969 - val_acc: 0.5026\n",
      "Epoch 10/20\n",
      "34/34 [==============================] - 59s 2s/step - loss: 0.6823 - acc: 0.5587 - val_loss: 0.7032 - val_acc: 0.4974\n",
      "Epoch 11/20\n",
      "34/34 [==============================] - 59s 2s/step - loss: 0.6819 - acc: 0.5550 - val_loss: 0.6934 - val_acc: 0.5026\n",
      "Epoch 12/20\n",
      "34/34 [==============================] - 57s 2s/step - loss: 0.6800 - acc: 0.5541 - val_loss: 0.6935 - val_acc: 0.5079\n",
      "Epoch 13/20\n",
      "34/34 [==============================] - 58s 2s/step - loss: 0.6802 - acc: 0.5634 - val_loss: 0.7029 - val_acc: 0.4974\n",
      "Epoch 14/20\n",
      "34/34 [==============================] - 57s 2s/step - loss: 0.6814 - acc: 0.5597 - val_loss: 0.6944 - val_acc: 0.5026\n",
      "Epoch 15/20\n",
      "34/34 [==============================] - 60s 2s/step - loss: 0.6786 - acc: 0.5578 - val_loss: 0.6923 - val_acc: 0.5183\n",
      "Epoch 16/20\n",
      "34/34 [==============================] - 60s 2s/step - loss: 0.6765 - acc: 0.5754 - val_loss: 0.6992 - val_acc: 0.5026\n",
      "Epoch 17/20\n",
      "34/34 [==============================] - 54s 2s/step - loss: 0.6775 - acc: 0.5680 - val_loss: 0.6998 - val_acc: 0.5026\n",
      "Epoch 18/20\n",
      "34/34 [==============================] - 54s 2s/step - loss: 0.6763 - acc: 0.5532 - val_loss: 0.6967 - val_acc: 0.5079\n",
      "Epoch 19/20\n",
      "34/34 [==============================] - 55s 2s/step - loss: 0.6775 - acc: 0.5476 - val_loss: 0.7045 - val_acc: 0.4974\n",
      "Epoch 20/20\n",
      "34/34 [==============================] - 54s 2s/step - loss: 0.6758 - acc: 0.5541 - val_loss: 0.7047 - val_acc: 0.4974\n"
     ]
    }
   ],
   "source": [
    "save_at = \"ResNet_Model/resnet_{}.h5\".format(objek)\n",
    "save_best = ModelCheckpoint (filepath = save_at, monitor='val_acc', save_best_only=True, save_freq='epoch', save_weights_only=False, mode='max')\n",
    "hist = model.fit(X_train, Y_train, validation_data = (X_val, Y_val), callbacks=[save_best], epochs = 20) "
   ]
  },
  {
   "cell_type": "markdown",
   "metadata": {},
   "source": [
    "**Dataset Shoulder**"
   ]
  },
  {
   "cell_type": "code",
   "execution_count": 2,
   "metadata": {},
   "outputs": [],
   "source": [
    "objek = 'shoulder'"
   ]
  },
  {
   "cell_type": "code",
   "execution_count": 5,
   "metadata": {},
   "outputs": [
    {
     "name": "stdout",
     "output_type": "stream",
     "text": [
      "0    MURA-v1.1/train/XR_SHOULDER/patient01685/study...\n",
      "1    MURA-v1.1/train/XR_SHOULDER/patient02206/study...\n",
      "2    MURA-v1.1/train/XR_SHOULDER/patient01976/study...\n",
      "3    MURA-v1.1/train/XR_SHOULDER/patient01071/study...\n",
      "4    MURA-v1.1/train/XR_SHOULDER/patient02526/study...\n",
      "Name: path, dtype: object\n",
      "Total Data =  (8364, 150, 150, 3)\n",
      "Data Train (7109, 150, 150, 3)\n",
      "Data Val (1255, 150, 150, 3)\n"
     ]
    }
   ],
   "source": [
    "X, Y = prepare_data(\"{}_with_label_randomized.csv\".format(objek))\n",
    "X = X/255\n",
    "X_train, X_val, Y_train, Y_val = train_test_split(X, Y, test_size=0.15, random_state=13)\n",
    "print(\"Data Train\", X_train.shape)\n",
    "print(\"Data Val\", X_val.shape)"
   ]
  },
  {
   "cell_type": "code",
   "execution_count": 6,
   "metadata": {},
   "outputs": [
    {
     "name": "stdout",
     "output_type": "stream",
     "text": [
      "Epoch 1/20\n",
      "223/223 [==============================] - 382s 2s/step - loss: 0.7117 - acc: 0.5092 - val_loss: 0.6857 - val_acc: 0.5586\n",
      "Epoch 2/20\n",
      "223/223 [==============================] - 354s 2s/step - loss: 0.6932 - acc: 0.5275 - val_loss: 0.6960 - val_acc: 0.5171\n",
      "Epoch 3/20\n",
      "223/223 [==============================] - 363s 2s/step - loss: 0.6909 - acc: 0.5279 - val_loss: 0.6855 - val_acc: 0.5641\n",
      "Epoch 4/20\n",
      "223/223 [==============================] - 367s 2s/step - loss: 0.6832 - acc: 0.5501 - val_loss: 0.6828 - val_acc: 0.5689\n",
      "Epoch 5/20\n",
      "223/223 [==============================] - 342s 2s/step - loss: 0.6815 - acc: 0.5555 - val_loss: 0.6832 - val_acc: 0.5649\n",
      "Epoch 6/20\n",
      "223/223 [==============================] - 375s 2s/step - loss: 0.6803 - acc: 0.5639 - val_loss: 0.6829 - val_acc: 0.5633\n",
      "Epoch 7/20\n",
      "223/223 [==============================] - 446s 2s/step - loss: 0.6818 - acc: 0.5500 - val_loss: 0.6809 - val_acc: 0.5618\n",
      "Epoch 8/20\n",
      "223/223 [==============================] - 360s 2s/step - loss: 0.6779 - acc: 0.5662 - val_loss: 0.6864 - val_acc: 0.5147\n",
      "Epoch 9/20\n",
      "223/223 [==============================] - 351s 2s/step - loss: 0.6763 - acc: 0.5712 - val_loss: 0.6800 - val_acc: 0.5641\n",
      "Epoch 10/20\n",
      "223/223 [==============================] - 338s 2s/step - loss: 0.6769 - acc: 0.5672 - val_loss: 0.6808 - val_acc: 0.5681\n",
      "Epoch 11/20\n",
      "223/223 [==============================] - 354s 2s/step - loss: 0.6771 - acc: 0.5703 - val_loss: 0.6844 - val_acc: 0.5466\n",
      "Epoch 12/20\n",
      "223/223 [==============================] - 356s 2s/step - loss: 0.6743 - acc: 0.5880 - val_loss: 0.6765 - val_acc: 0.5833\n",
      "Epoch 13/20\n",
      "223/223 [==============================] - 344s 2s/step - loss: 0.6746 - acc: 0.5735 - val_loss: 0.6754 - val_acc: 0.5825\n",
      "Epoch 14/20\n",
      "223/223 [==============================] - 348s 2s/step - loss: 0.6729 - acc: 0.5787 - val_loss: 0.6852 - val_acc: 0.5307\n",
      "Epoch 15/20\n",
      "223/223 [==============================] - 348s 2s/step - loss: 0.6728 - acc: 0.5805 - val_loss: 0.6893 - val_acc: 0.5147\n",
      "Epoch 16/20\n",
      "223/223 [==============================] - 351s 2s/step - loss: 0.6681 - acc: 0.5880 - val_loss: 0.6805 - val_acc: 0.5618\n",
      "Epoch 17/20\n",
      "223/223 [==============================] - 349s 2s/step - loss: 0.6713 - acc: 0.5852 - val_loss: 0.6733 - val_acc: 0.5793\n",
      "Epoch 18/20\n",
      "223/223 [==============================] - 349s 2s/step - loss: 0.6677 - acc: 0.5919 - val_loss: 0.6737 - val_acc: 0.5817\n",
      "Epoch 19/20\n",
      "223/223 [==============================] - 352s 2s/step - loss: 0.6676 - acc: 0.5952 - val_loss: 0.6778 - val_acc: 0.5737\n",
      "Epoch 20/20\n",
      "223/223 [==============================] - 356s 2s/step - loss: 0.6706 - acc: 0.5877 - val_loss: 0.6742 - val_acc: 0.5849\n"
     ]
    }
   ],
   "source": [
    "save_at = \"ResNet_Model/resnet_{}.h5\".format(objek)\n",
    "save_best = ModelCheckpoint (filepath = save_at, monitor='val_acc', save_best_only=True, save_freq='epoch', save_weights_only=False, mode='max')\n",
    "hist = model.fit(X_train, Y_train, validation_data = (X_val, Y_val), callbacks=[save_best], epochs = 20) "
   ]
  },
  {
   "cell_type": "markdown",
   "metadata": {},
   "source": [
    "**Dataset Wrist**"
   ]
  },
  {
   "cell_type": "code",
   "execution_count": 4,
   "metadata": {},
   "outputs": [],
   "source": [
    "objek = 'wrist'"
   ]
  },
  {
   "cell_type": "code",
   "execution_count": 5,
   "metadata": {},
   "outputs": [
    {
     "name": "stdout",
     "output_type": "stream",
     "text": [
      "0    MURA-v1.1/train/XR_WRIST/patient07688/study1_n...\n",
      "1    MURA-v1.1/train/XR_WRIST/patient06904/study1_p...\n",
      "2    MURA-v1.1/train/XR_WRIST/patient06806/study1_p...\n",
      "3    MURA-v1.1/train/XR_WRIST/patient06442/study1_p...\n",
      "4    MURA-v1.1/train/XR_WRIST/patient00305/study1_n...\n",
      "Name: path, dtype: object\n",
      "Total Data =  (9739, 150, 150, 3)\n",
      "Data Train (8278, 150, 150, 3)\n",
      "Data Val (1461, 150, 150, 3)\n"
     ]
    }
   ],
   "source": [
    "X, Y = prepare_data(\"{}_with_label_randomized.csv\".format(objek))\n",
    "X = X/255\n",
    "X_train, X_val, Y_train, Y_val = train_test_split(X, Y, test_size=0.15, random_state=13)\n",
    "print(\"Data Train\", X_train.shape)\n",
    "print(\"Data Val\", X_val.shape)"
   ]
  },
  {
   "cell_type": "code",
   "execution_count": 6,
   "metadata": {},
   "outputs": [
    {
     "name": "stdout",
     "output_type": "stream",
     "text": [
      "Epoch 1/20\n",
      "259/259 [==============================] - 449s 2s/step - loss: 0.6788 - acc: 0.5931 - val_loss: 0.6501 - val_acc: 0.5927\n",
      "Epoch 2/20\n",
      "259/259 [==============================] - 420s 2s/step - loss: 0.6484 - acc: 0.6214 - val_loss: 0.6453 - val_acc: 0.6099\n",
      "Epoch 3/20\n",
      "259/259 [==============================] - 488s 2s/step - loss: 0.6459 - acc: 0.6249 - val_loss: 0.6550 - val_acc: 0.5962\n",
      "Epoch 4/20\n",
      "259/259 [==============================] - 649s 3s/step - loss: 0.6393 - acc: 0.6340 - val_loss: 0.6380 - val_acc: 0.6304\n",
      "Epoch 5/20\n",
      "259/259 [==============================] - 684s 3s/step - loss: 0.6390 - acc: 0.6322 - val_loss: 0.6446 - val_acc: 0.6078\n",
      "Epoch 6/20\n",
      "259/259 [==============================] - 690s 3s/step - loss: 0.6372 - acc: 0.6346 - val_loss: 0.6355 - val_acc: 0.6407\n",
      "Epoch 7/20\n",
      "259/259 [==============================] - 1258s 5s/step - loss: 0.6352 - acc: 0.6378 - val_loss: 0.6331 - val_acc: 0.6386\n",
      "Epoch 8/20\n",
      "259/259 [==============================] - 704s 3s/step - loss: 0.6302 - acc: 0.6457 - val_loss: 0.6370 - val_acc: 0.6434\n",
      "Epoch 9/20\n",
      "259/259 [==============================] - 583s 2s/step - loss: 0.6288 - acc: 0.6445 - val_loss: 0.6298 - val_acc: 0.6393\n",
      "Epoch 10/20\n",
      "259/259 [==============================] - 526s 2s/step - loss: 0.6287 - acc: 0.6430 - val_loss: 0.6447 - val_acc: 0.6242\n",
      "Epoch 11/20\n",
      "259/259 [==============================] - 525s 2s/step - loss: 0.6281 - acc: 0.6515 - val_loss: 0.6290 - val_acc: 0.6461\n",
      "Epoch 12/20\n",
      "259/259 [==============================] - 519s 2s/step - loss: 0.6269 - acc: 0.6485 - val_loss: 0.6302 - val_acc: 0.6454\n",
      "Epoch 13/20\n",
      "259/259 [==============================] - 517s 2s/step - loss: 0.6218 - acc: 0.6516 - val_loss: 0.6463 - val_acc: 0.6229\n",
      "Epoch 14/20\n",
      "259/259 [==============================] - 498s 2s/step - loss: 0.6237 - acc: 0.6510 - val_loss: 0.6284 - val_acc: 0.6454\n",
      "Epoch 15/20\n",
      "259/259 [==============================] - 499s 2s/step - loss: 0.6189 - acc: 0.6526 - val_loss: 0.6301 - val_acc: 0.6502\n",
      "Epoch 16/20\n",
      "259/259 [==============================] - 500s 2s/step - loss: 0.6168 - acc: 0.6529 - val_loss: 0.6181 - val_acc: 0.6386\n",
      "Epoch 17/20\n",
      "259/259 [==============================] - 494s 2s/step - loss: 0.6159 - acc: 0.6575 - val_loss: 0.6548 - val_acc: 0.6208\n",
      "Epoch 18/20\n",
      "259/259 [==============================] - 494s 2s/step - loss: 0.6181 - acc: 0.6510 - val_loss: 0.6188 - val_acc: 0.6502\n",
      "Epoch 19/20\n",
      "259/259 [==============================] - 502s 2s/step - loss: 0.6166 - acc: 0.6584 - val_loss: 0.6233 - val_acc: 0.6612\n",
      "Epoch 20/20\n",
      "259/259 [==============================] - 532s 2s/step - loss: 0.6103 - acc: 0.6590 - val_loss: 0.6152 - val_acc: 0.6530\n"
     ]
    }
   ],
   "source": [
    "save_at = \"ResNet_Model/resnet_{}.h5\".format(objek)\n",
    "save_best = ModelCheckpoint (filepath = save_at, monitor='val_acc', save_best_only=True, save_freq='epoch', save_weights_only=False, mode='max')\n",
    "hist = model.fit(X_train, Y_train, validation_data = (X_val, Y_val), callbacks=[save_best], epochs = 20) "
   ]
  },
  {
   "cell_type": "markdown",
   "metadata": {},
   "source": [
    "**Dataset Elbow**"
   ]
  },
  {
   "cell_type": "code",
   "execution_count": null,
   "metadata": {},
   "outputs": [],
   "source": [
    "objek = 'elbow'"
   ]
  },
  {
   "cell_type": "code",
   "execution_count": null,
   "metadata": {},
   "outputs": [],
   "source": [
    "X, Y = prepare_data(\"{}_with_label_randomized.csv\".format(objek))\n",
    "X = X/255\n",
    "X_train, X_val, Y_train, Y_val = train_test_split(X, Y, test_size=0.15, random_state=13)\n",
    "print(\"Data Train\", X_train.shape)\n",
    "print(\"Data Val\", X_val.shape)"
   ]
  },
  {
   "cell_type": "code",
   "execution_count": null,
   "metadata": {},
   "outputs": [],
   "source": [
    "save_at = \"ResNet_Model/resnet_{}.h5\".format(objek)\n",
    "save_best = ModelCheckpoint (filepath = save_at, monitor='val_acc', save_best_only=True, save_freq='epoch', save_weights_only=False, mode='max')\n",
    "hist = model.fit(X_train, Y_train, validation_data = (X_val, Y_val), callbacks=[save_best], epochs = 20) "
   ]
  },
  {
   "cell_type": "markdown",
   "metadata": {},
   "source": [
    "**Dataset Finger**"
   ]
  },
  {
   "cell_type": "code",
   "execution_count": null,
   "metadata": {},
   "outputs": [],
   "source": [
    "objek = 'finger'"
   ]
  },
  {
   "cell_type": "code",
   "execution_count": null,
   "metadata": {},
   "outputs": [],
   "source": [
    "X, Y = prepare_data(\"{}_with_label_randomized.csv\".format(objek))\n",
    "X = X/255\n",
    "X_train, X_val, Y_train, Y_val = train_test_split(X, Y, test_size=0.15, random_state=13)\n",
    "print(\"Data Train\", X_train.shape)\n",
    "print(\"Data Val\", X_val.shape)"
   ]
  },
  {
   "cell_type": "code",
   "execution_count": null,
   "metadata": {},
   "outputs": [],
   "source": [
    "save_at = \"ResNet_Model/resnet_{}.h5\".format(objek)\n",
    "save_best = ModelCheckpoint (filepath = save_at, monitor='val_acc', save_best_only=True, save_freq='epoch', save_weights_only=False, mode='max')\n",
    "hist = model.fit(X_train, Y_train, validation_data = (X_val, Y_val), callbacks=[save_best], epochs = 20) "
   ]
  },
  {
   "cell_type": "markdown",
   "metadata": {},
   "source": [
    "**Dataset Forearm**"
   ]
  },
  {
   "cell_type": "code",
   "execution_count": null,
   "metadata": {},
   "outputs": [],
   "source": [
    "objek = 'forearm'"
   ]
  },
  {
   "cell_type": "code",
   "execution_count": null,
   "metadata": {},
   "outputs": [],
   "source": [
    "X, Y = prepare_data(\"{}_with_label_randomized.csv\".format(objek))\n",
    "X = X/255\n",
    "X_train, X_val, Y_train, Y_val = train_test_split(X, Y, test_size=0.15, random_state=13)\n",
    "print(\"Data Train\", X_train.shape)\n",
    "print(\"Data Val\", X_val.shape)"
   ]
  },
  {
   "cell_type": "code",
   "execution_count": null,
   "metadata": {},
   "outputs": [],
   "source": [
    "save_at = \"ResNet_Model/resnet_{}.h5\".format(objek)\n",
    "save_best = ModelCheckpoint (filepath = save_at, monitor='val_acc', save_best_only=True, save_freq='epoch', save_weights_only=False, mode='max')\n",
    "hist = model.fit(X_train, Y_train, validation_data = (X_val, Y_val), callbacks=[save_best], epochs = 20) "
   ]
  }
 ],
 "metadata": {
  "kernelspec": {
   "display_name": "Python 3.10.5 64-bit",
   "language": "python",
   "name": "python3"
  },
  "language_info": {
   "codemirror_mode": {
    "name": "ipython",
    "version": 3
   },
   "file_extension": ".py",
   "mimetype": "text/x-python",
   "name": "python",
   "nbconvert_exporter": "python",
   "pygments_lexer": "ipython3",
   "version": "3.10.5"
  },
  "orig_nbformat": 4,
  "vscode": {
   "interpreter": {
    "hash": "26de051ba29f2982a8de78e945f0abaf191376122a1563185a90213a26c5da77"
   }
  }
 },
 "nbformat": 4,
 "nbformat_minor": 2
}
