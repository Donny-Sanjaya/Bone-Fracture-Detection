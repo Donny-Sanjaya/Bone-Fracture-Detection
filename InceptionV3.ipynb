{
 "cells": [
  {
   "cell_type": "code",
   "execution_count": 1,
   "metadata": {},
   "outputs": [],
   "source": [
    "import numpy as np #for numerical computations\n",
    "import pandas as pd #for dataframe operations\n",
    "\n",
    "from matplotlib import pyplot as plt #for viewing images and plots\n",
    "%matplotlib inline \n",
    "#So that Matplotlib plots don't open in separate windows outside the notebook\n",
    "\n",
    "import urllib #For fetching data from Web URLs\n",
    "\n",
    "import cv2   #For image processing\n",
    "\n",
    "from sklearn.preprocessing import LabelEncoder    #For encoding categorical variables\n",
    "from sklearn.model_selection import train_test_split #For splitting of dataset\n",
    "\n",
    "#All tensorflow utilities for creating, training and working with a CNN\n",
    "from tensorflow.keras.utils import to_categorical\n",
    "from tensorflow.keras.models import Sequential\n",
    "from tensorflow.keras.layers import Conv2D, MaxPool2D, BatchNormalization\n",
    "from tensorflow.keras.layers import Activation, Dropout, Flatten, Dense\n",
    "from tensorflow.keras.losses import categorical_crossentropy\n",
    "from tensorflow.keras.optimizers import Adam\n",
    "from tensorflow.keras.callbacks import ModelCheckpoint\n",
    "from tensorflow.keras.models import load_model\n",
    "from IPython.core.interactiveshell import InteractiveShell\n",
    "InteractiveShell.ast_node_interactivity = 'all'"
   ]
  },
  {
   "cell_type": "markdown",
   "metadata": {},
   "source": [
    "**Dataset Hand**"
   ]
  },
  {
   "cell_type": "code",
   "execution_count": 2,
   "metadata": {},
   "outputs": [],
   "source": [
    "objek = 'hand'"
   ]
  },
  {
   "cell_type": "code",
   "execution_count": 3,
   "metadata": {},
   "outputs": [],
   "source": [
    "def prepare_data(file_name):\n",
    "    df = pd.read_csv(r'{}'.format(file_name), names=[\"path\", \"target\"])\n",
    "    print(df[\"path\"].head())\n",
    "    np.where(df.applymap(lambda x: x == ''))\n",
    "    \n",
    "    # X Input Data\n",
    "    image_list = []\n",
    "\n",
    "    for path in df['path'] :\n",
    "#         print(path) \n",
    "        image_arr = cv2.imread(path)\n",
    "        image_224x224 = cv2.resize(image_arr, (150, 150))\n",
    "        image_list.append(image_224x224.astype('float')) \n",
    "    X = np.array(image_list)\n",
    "    print(\"Total Data = \", X.shape)\n",
    "\n",
    "    # Y Output Data\n",
    "    encoder = LabelEncoder()\n",
    "    Targets = encoder.fit_transform(df['target'])\n",
    "    n_classes = 2\n",
    "    Y = to_categorical(Targets, num_classes = n_classes)\n",
    "    \n",
    "    return X, Y"
   ]
  },
  {
   "cell_type": "code",
   "execution_count": 4,
   "metadata": {},
   "outputs": [
    {
     "name": "stdout",
     "output_type": "stream",
     "text": [
      "0    MURA-v1.1/train/XR_HAND/patient10169/study1_ne...\n",
      "1    MURA-v1.1/train/XR_HAND/patient10121/study1_po...\n",
      "2    MURA-v1.1/train/XR_HAND/patient09111/study1_ne...\n",
      "3    MURA-v1.1/train/XR_HAND/patient11008/study1_ne...\n",
      "4    MURA-v1.1/train/XR_HAND/patient09780/study1_po...\n",
      "Name: path, dtype: object\n",
      "Total Data =  (5543, 150, 150, 3)\n",
      "Data Train (4711, 150, 150, 3)\n",
      "Data Val (832, 150, 150, 3)\n"
     ]
    }
   ],
   "source": [
    "X, Y = prepare_data(\"{}_with_label_randomized.csv\".format(objek))\n",
    "X = X/255\n",
    "X_train, X_val, Y_train, Y_val = train_test_split(X, Y, test_size=0.15, random_state=13)\n",
    "print(\"Data Train\", X_train.shape)\n",
    "print(\"Data Val\", X_val.shape)"
   ]
  },
  {
   "cell_type": "code",
   "execution_count": 9,
   "metadata": {},
   "outputs": [
    {
     "data": {
      "text/plain": [
       "(4711, 2)"
      ]
     },
     "execution_count": 9,
     "metadata": {},
     "output_type": "execute_result"
    },
    {
     "data": {
      "text/plain": [
       "(832, 2)"
      ]
     },
     "execution_count": 9,
     "metadata": {},
     "output_type": "execute_result"
    }
   ],
   "source": [
    "Y_train.shape\n",
    "Y_val.shape"
   ]
  },
  {
   "cell_type": "code",
   "execution_count": 3,
   "metadata": {},
   "outputs": [],
   "source": [
    "from tensorflow.keras import layers \n",
    "from tensorflow.keras import Model \n",
    "import tensorflow as tf \n",
    "from tensorflow.keras.optimizers import Adamax\n",
    "from tensorflow.keras.applications.inception_v3 import InceptionV3\n",
    "\n",
    "base_model = InceptionV3(input_shape = (150, 150, 3), include_top = False, weights = 'imagenet')\n",
    "\n",
    "for layer in base_model.layers:\n",
    "    layer.trainable = False\n",
    "\n",
    "x = layers.Flatten()(base_model.output)\n",
    "x = layers.Dense(512, activation='relu')(x)\n",
    "x = layers.Dropout(0.2)(x)\n",
    "x = layers.Dense(2, activation='softmax')(x)\n",
    "\n",
    "model = tf.keras.models.Model(base_model.input, x)\n",
    "\n",
    "model.compile(optimizer = Adamax(learning_rate=0.0001), loss = 'binary_crossentropy', metrics = ['acc'])"
   ]
  },
  {
   "cell_type": "code",
   "execution_count": 13,
   "metadata": {},
   "outputs": [
    {
     "name": "stdout",
     "output_type": "stream",
     "text": [
      "Epoch 1/20\n",
      "19/19 [==============================] - 107s 6s/step - loss: 0.6729 - acc: 0.6848 - val_loss: 0.5703 - val_acc: 0.7512\n",
      "Epoch 2/20\n",
      "19/19 [==============================] - 102s 5s/step - loss: 0.5608 - acc: 0.7444 - val_loss: 0.5650 - val_acc: 0.7464\n",
      "Epoch 3/20\n",
      "19/19 [==============================] - 115s 6s/step - loss: 0.5341 - acc: 0.7531 - val_loss: 0.5584 - val_acc: 0.7548\n",
      "Epoch 4/20\n",
      "19/19 [==============================] - 104s 6s/step - loss: 0.5149 - acc: 0.7610 - val_loss: 0.5554 - val_acc: 0.7512\n",
      "Epoch 5/20\n",
      "19/19 [==============================] - 100s 5s/step - loss: 0.4973 - acc: 0.7722 - val_loss: 0.5552 - val_acc: 0.7560\n",
      "Epoch 6/20\n",
      "19/19 [==============================] - 97s 5s/step - loss: 0.4810 - acc: 0.7782 - val_loss: 0.5505 - val_acc: 0.7560\n",
      "Epoch 7/20\n",
      "19/19 [==============================] - 101s 5s/step - loss: 0.4647 - acc: 0.7928 - val_loss: 0.5473 - val_acc: 0.7608\n",
      "Epoch 8/20\n",
      "19/19 [==============================] - 107s 6s/step - loss: 0.4512 - acc: 0.7981 - val_loss: 0.5450 - val_acc: 0.7596\n",
      "Epoch 9/20\n",
      "19/19 [==============================] - 102s 5s/step - loss: 0.4347 - acc: 0.8081 - val_loss: 0.5436 - val_acc: 0.7548\n",
      "Epoch 10/20\n",
      "19/19 [==============================] - 98s 5s/step - loss: 0.4246 - acc: 0.8174 - val_loss: 0.5444 - val_acc: 0.7524\n",
      "Epoch 11/20\n",
      "19/19 [==============================] - 104s 6s/step - loss: 0.4122 - acc: 0.8251 - val_loss: 0.5415 - val_acc: 0.7572\n",
      "Epoch 12/20\n",
      "19/19 [==============================] - 93s 5s/step - loss: 0.3996 - acc: 0.8332 - val_loss: 0.5397 - val_acc: 0.7524\n",
      "Epoch 13/20\n",
      "19/19 [==============================] - 93s 5s/step - loss: 0.3907 - acc: 0.8391 - val_loss: 0.5393 - val_acc: 0.7536\n",
      "Epoch 14/20\n",
      "19/19 [==============================] - 90s 5s/step - loss: 0.3780 - acc: 0.8450 - val_loss: 0.5406 - val_acc: 0.7596\n",
      "Epoch 15/20\n",
      "19/19 [==============================] - 92s 5s/step - loss: 0.3669 - acc: 0.8554 - val_loss: 0.5382 - val_acc: 0.7536\n",
      "Epoch 16/20\n",
      "19/19 [==============================] - 92s 5s/step - loss: 0.3547 - acc: 0.8631 - val_loss: 0.5435 - val_acc: 0.7608\n",
      "Epoch 17/20\n",
      "19/19 [==============================] - 91s 5s/step - loss: 0.3441 - acc: 0.8648 - val_loss: 0.5373 - val_acc: 0.7572\n",
      "Epoch 18/20\n",
      "19/19 [==============================] - 98s 5s/step - loss: 0.3371 - acc: 0.8709 - val_loss: 0.5379 - val_acc: 0.7572\n",
      "Epoch 19/20\n",
      "19/19 [==============================] - 100s 5s/step - loss: 0.3282 - acc: 0.8816 - val_loss: 0.5365 - val_acc: 0.7656\n",
      "Epoch 20/20\n",
      "19/19 [==============================] - 94s 5s/step - loss: 0.3172 - acc: 0.8852 - val_loss: 0.5396 - val_acc: 0.7536\n"
     ]
    }
   ],
   "source": [
    "save_at = \"Inception_Model/inception_{}.h5\".format(objek)\n",
    "save_best = ModelCheckpoint (save_at, monitor='val_acc', verbose=0, save_best_only=True, save_weights_only=False, mode='max')\n",
    "hist = model.fit(X_train, Y_train, validation_data = (X_val, Y_val), callbacks=[save_best], batch_size=256, epochs = 20)"
   ]
  },
  {
   "cell_type": "code",
   "execution_count": 5,
   "metadata": {},
   "outputs": [
    {
     "name": "stdout",
     "output_type": "stream",
     "text": [
      "0    MURA-v1.1/valid/XR_HAND/patient11497/study1_po...\n",
      "1    MURA-v1.1/valid/XR_HAND/patient11497/study1_po...\n",
      "2    MURA-v1.1/valid/XR_HAND/patient11497/study1_po...\n",
      "3    MURA-v1.1/valid/XR_HAND/patient11498/study1_po...\n",
      "4    MURA-v1.1/valid/XR_HAND/patient11498/study1_po...\n",
      "Name: path, dtype: object\n",
      "Total Data =  (460, 150, 150, 3)\n"
     ]
    }
   ],
   "source": [
    "X_test, Y_test = prepare_data(\"{}_val_path_label.csv\".format(objek))"
   ]
  },
  {
   "cell_type": "code",
   "execution_count": 7,
   "metadata": {},
   "outputs": [
    {
     "name": "stdout",
     "output_type": "stream",
     "text": [
      "Accuracy over the test set: \n",
      "  58.91 %\n"
     ]
    }
   ],
   "source": [
    "model_load = load_model(\"Inception_Model/inception_{}.h5\".format(objek))\n",
    "score = model_load.evaluate(X_test, Y_test, verbose=0)\n",
    "print('Accuracy over the test set: \\n ', round((score[1]*100), 2), '%')"
   ]
  },
  {
   "cell_type": "code",
   "execution_count": 8,
   "metadata": {},
   "outputs": [
    {
     "name": "stdout",
     "output_type": "stream",
     "text": [
      "15/15 [==============================] - 9s 526ms/step\n"
     ]
    }
   ],
   "source": [
    "Y_pred = model.predict(X_test/255)"
   ]
  },
  {
   "cell_type": "code",
   "execution_count": 17,
   "metadata": {},
   "outputs": [
    {
     "data": {
      "text/plain": [
       "(460, 150, 150, 3)"
      ]
     },
     "execution_count": 17,
     "metadata": {},
     "output_type": "execute_result"
    }
   ],
   "source": [
    "X_test.shape"
   ]
  },
  {
   "cell_type": "code",
   "execution_count": 9,
   "metadata": {},
   "outputs": [
    {
     "data": {
      "text/plain": [
       "<Figure size 432x288 with 0 Axes>"
      ]
     },
     "execution_count": 9,
     "metadata": {},
     "output_type": "execute_result"
    },
    {
     "data": {
      "text/plain": [
       "(<matplotlib.image.AxesImage at 0x2166f7d0a30>, (-0.5, 149.5, 149.5, -0.5))"
      ]
     },
     "execution_count": 9,
     "metadata": {},
     "output_type": "execute_result"
    },
    {
     "ename": "NameError",
     "evalue": "name 'encoder' is not defined",
     "output_type": "error",
     "traceback": [
      "\u001b[1;31m---------------------------------------------------------------------------\u001b[0m",
      "\u001b[1;31mNameError\u001b[0m                                 Traceback (most recent call last)",
      "\u001b[1;32md:\\Project\\KP\\new_incV3_hand.ipynb Cell 13\u001b[0m in \u001b[0;36m<cell line: 2>\u001b[1;34m()\u001b[0m\n\u001b[0;32m      <a href='vscode-notebook-cell:/d%3A/Project/KP/new_incV3_hand.ipynb#X22sZmlsZQ%3D%3D?line=3'>4</a>\u001b[0m plt\u001b[39m.\u001b[39mimshow(X_test[rand_num]\u001b[39m.\u001b[39mastype(\u001b[39m'\u001b[39m\u001b[39mint\u001b[39m\u001b[39m'\u001b[39m)), plt\u001b[39m.\u001b[39maxis(\u001b[39m'\u001b[39m\u001b[39moff\u001b[39m\u001b[39m'\u001b[39m)\n\u001b[0;32m      <a href='vscode-notebook-cell:/d%3A/Project/KP/new_incV3_hand.ipynb#X22sZmlsZQ%3D%3D?line=4'>5</a>\u001b[0m \u001b[39mif\u001b[39;00m np\u001b[39m.\u001b[39mwhere(Y_pred[rand_num] \u001b[39m==\u001b[39m \u001b[39m1\u001b[39m)[\u001b[39m0\u001b[39m]\u001b[39m.\u001b[39msum() \u001b[39m==\u001b[39m np\u001b[39m.\u001b[39mwhere(Y_test[rand_num] \u001b[39m==\u001b[39m \u001b[39m1\u001b[39m)[\u001b[39m0\u001b[39m]\u001b[39m.\u001b[39msum():\n\u001b[1;32m----> <a href='vscode-notebook-cell:/d%3A/Project/KP/new_incV3_hand.ipynb#X22sZmlsZQ%3D%3D?line=5'>6</a>\u001b[0m   plt\u001b[39m.\u001b[39mtitle(encoder\u001b[39m.\u001b[39mclasses_[np\u001b[39m.\u001b[39mwhere(Y_pred[rand_num] \u001b[39m==\u001b[39m \u001b[39m1\u001b[39m)[\u001b[39m0\u001b[39m]\u001b[39m.\u001b[39msum()], color\u001b[39m=\u001b[39m\u001b[39m'\u001b[39m\u001b[39mg\u001b[39m\u001b[39m'\u001b[39m)\n\u001b[0;32m      <a href='vscode-notebook-cell:/d%3A/Project/KP/new_incV3_hand.ipynb#X22sZmlsZQ%3D%3D?line=6'>7</a>\u001b[0m \u001b[39melse\u001b[39;00m :\n\u001b[0;32m      <a href='vscode-notebook-cell:/d%3A/Project/KP/new_incV3_hand.ipynb#X22sZmlsZQ%3D%3D?line=7'>8</a>\u001b[0m   plt\u001b[39m.\u001b[39mtitle(encoder\u001b[39m.\u001b[39mclasses_[np\u001b[39m.\u001b[39mwhere(Y_pred[rand_num] \u001b[39m==\u001b[39m \u001b[39m1\u001b[39m)[\u001b[39m0\u001b[39m]\u001b[39m.\u001b[39msum()], color\u001b[39m=\u001b[39m\u001b[39m'\u001b[39m\u001b[39mr\u001b[39m\u001b[39m'\u001b[39m)\n",
      "\u001b[1;31mNameError\u001b[0m: name 'encoder' is not defined"
     ]
    },
    {
     "data": {
      "image/png": "[encoded data removed]",
      "text/plain": [
       "<Figure size 432x288 with 1 Axes>"
      ]
     },
     "metadata": {
      "needs_background": "light"
     },
     "output_type": "display_data"
    }
   ],
   "source": [
    "np.random.seed(89)\n",
    "for rand_num in np.random.randint(0, len(Y_test), 15):\n",
    "  plt.figure()\n",
    "  plt.imshow(X_test[rand_num].astype('int')), plt.axis('off')\n",
    "  if np.where(Y_pred[rand_num] == 1)[0].sum() == np.where(Y_test[rand_num] == 1)[0].sum():\n",
    "    plt.title(encoder.classes_[np.where(Y_pred[rand_num] == 1)[0].sum()], color='g')\n",
    "  else :\n",
    "    plt.title(encoder.classes_[np.where(Y_pred[rand_num] == 1)[0].sum()], color='r')"
   ]
  },
  {
   "cell_type": "markdown",
   "metadata": {},
   "source": [
    "**Dataset Humerus**"
   ]
  },
  {
   "cell_type": "code",
   "execution_count": 19,
   "metadata": {},
   "outputs": [],
   "source": [
    "objek = 'humerus'"
   ]
  },
  {
   "cell_type": "code",
   "execution_count": 20,
   "metadata": {},
   "outputs": [
    {
     "name": "stdout",
     "output_type": "stream",
     "text": [
      "0    MURA-v1.1/train/XR_HUMERUS/patient02717/study1...\n",
      "1    MURA-v1.1/train/XR_HUMERUS/patient02922/study1...\n",
      "2    MURA-v1.1/train/XR_HUMERUS/patient02746/study1...\n",
      "3    MURA-v1.1/train/XR_HUMERUS/patient02917/study1...\n",
      "4    MURA-v1.1/train/XR_HUMERUS/patient02739/study1...\n",
      "Name: path, dtype: object\n",
      "Total Data =  (1272, 150, 150, 3)\n",
      "Data Train (1081, 150, 150, 3)\n",
      "Data Val (191, 150, 150, 3)\n"
     ]
    }
   ],
   "source": [
    "X, Y = prepare_data(\"{}_with_label_randomized.csv\".format(objek))\n",
    "X = X/255\n",
    "X_train, X_val, Y_train, Y_val = train_test_split(X, Y, test_size=0.15, random_state=13)\n",
    "print(\"Data Train\", X_train.shape)\n",
    "print(\"Data Val\", X_val.shape)"
   ]
  },
  {
   "cell_type": "code",
   "execution_count": 21,
   "metadata": {},
   "outputs": [
    {
     "name": "stdout",
     "output_type": "stream",
     "text": [
      "Epoch 1/20\n",
      "5/5 [==============================] - 23s 5s/step - loss: 0.9639 - acc: 0.5412 - val_loss: 0.9275 - val_acc: 0.4869\n",
      "Epoch 2/20\n",
      "5/5 [==============================] - 26s 5s/step - loss: 0.8627 - acc: 0.5393 - val_loss: 0.7425 - val_acc: 0.5812\n",
      "Epoch 3/20\n",
      "5/5 [==============================] - 24s 5s/step - loss: 0.6983 - acc: 0.6355 - val_loss: 0.6962 - val_acc: 0.6283\n",
      "Epoch 4/20\n",
      "5/5 [==============================] - 28s 6s/step - loss: 0.5988 - acc: 0.6901 - val_loss: 0.6332 - val_acc: 0.6649\n",
      "Epoch 5/20\n",
      "5/5 [==============================] - 24s 5s/step - loss: 0.5766 - acc: 0.7040 - val_loss: 0.6010 - val_acc: 0.7225\n",
      "Epoch 6/20\n",
      "5/5 [==============================] - 22s 5s/step - loss: 0.5304 - acc: 0.7484 - val_loss: 0.6022 - val_acc: 0.6963\n",
      "Epoch 7/20\n",
      "5/5 [==============================] - 26s 5s/step - loss: 0.4996 - acc: 0.7780 - val_loss: 0.5863 - val_acc: 0.7277\n",
      "Epoch 8/20\n",
      "5/5 [==============================] - 22s 5s/step - loss: 0.4860 - acc: 0.7983 - val_loss: 0.5828 - val_acc: 0.7277\n",
      "Epoch 9/20\n",
      "5/5 [==============================] - 22s 4s/step - loss: 0.4553 - acc: 0.8113 - val_loss: 0.5880 - val_acc: 0.7173\n",
      "Epoch 10/20\n",
      "5/5 [==============================] - 26s 5s/step - loss: 0.4444 - acc: 0.8122 - val_loss: 0.5795 - val_acc: 0.7435\n",
      "Epoch 11/20\n",
      "5/5 [==============================] - 23s 5s/step - loss: 0.4180 - acc: 0.8344 - val_loss: 0.5823 - val_acc: 0.7382\n",
      "Epoch 12/20\n",
      "5/5 [==============================] - 22s 4s/step - loss: 0.3977 - acc: 0.8585 - val_loss: 0.5815 - val_acc: 0.7173\n",
      "Epoch 13/20\n",
      "5/5 [==============================] - 23s 5s/step - loss: 0.3884 - acc: 0.8677 - val_loss: 0.5821 - val_acc: 0.7225\n",
      "Epoch 14/20\n",
      "5/5 [==============================] - 24s 5s/step - loss: 0.3678 - acc: 0.8686 - val_loss: 0.5867 - val_acc: 0.7330\n",
      "Epoch 15/20\n",
      "5/5 [==============================] - 22s 4s/step - loss: 0.3592 - acc: 0.8603 - val_loss: 0.5810 - val_acc: 0.7330\n",
      "Epoch 16/20\n",
      "5/5 [==============================] - 22s 4s/step - loss: 0.3405 - acc: 0.8871 - val_loss: 0.5782 - val_acc: 0.7225\n",
      "Epoch 17/20\n",
      "5/5 [==============================] - 23s 5s/step - loss: 0.3247 - acc: 0.9001 - val_loss: 0.5755 - val_acc: 0.7330\n",
      "Epoch 18/20\n",
      "5/5 [==============================] - 23s 5s/step - loss: 0.3141 - acc: 0.9019 - val_loss: 0.5710 - val_acc: 0.7435\n",
      "Epoch 19/20\n",
      "5/5 [==============================] - 22s 4s/step - loss: 0.2993 - acc: 0.9204 - val_loss: 0.5699 - val_acc: 0.7225\n",
      "Epoch 20/20\n",
      "5/5 [==============================] - 26s 5s/step - loss: 0.2903 - acc: 0.9297 - val_loss: 0.5682 - val_acc: 0.7487\n"
     ]
    }
   ],
   "source": [
    "save_at = \"Inception_Model/inception_{}.h5\".format(objek)\n",
    "save_best = ModelCheckpoint (save_at, monitor='val_acc', verbose=0, save_best_only=True, save_weights_only=False, mode='max')\n",
    "hist = model.fit(X_train, Y_train, validation_data = (X_val, Y_val), callbacks=[save_best], batch_size=256, epochs = 20)"
   ]
  },
  {
   "cell_type": "code",
   "execution_count": 23,
   "metadata": {},
   "outputs": [
    {
     "name": "stdout",
     "output_type": "stream",
     "text": [
      "0    MURA-v1.1/valid/XR_HUMERUS/patient11608/study1...\n",
      "1    MURA-v1.1/valid/XR_HUMERUS/patient11608/study1...\n",
      "2    MURA-v1.1/valid/XR_HUMERUS/patient11214/study1...\n",
      "3    MURA-v1.1/valid/XR_HUMERUS/patient11214/study1...\n",
      "4    MURA-v1.1/valid/XR_HUMERUS/patient11609/study1...\n",
      "Name: path, dtype: object\n",
      "Total Data =  (288, 150, 150, 3)\n"
     ]
    }
   ],
   "source": [
    "X_test, Y_test = prepare_data(\"{}_val_path_label.csv\".format(objek))"
   ]
  },
  {
   "cell_type": "code",
   "execution_count": 24,
   "metadata": {},
   "outputs": [
    {
     "name": "stdout",
     "output_type": "stream",
     "text": [
      "Accuracy over the test set: \n",
      "  50.0 %\n"
     ]
    }
   ],
   "source": [
    "model_load = load_model(\"Inception_Model/inception_{}.h5\".format(objek))\n",
    "score = model_load.evaluate(X_test, Y_test, verbose=0)\n",
    "print('Accuracy over the test set: \\n ', round((score[1]*100), 2), '%')"
   ]
  },
  {
   "cell_type": "code",
   "execution_count": 25,
   "metadata": {},
   "outputs": [
    {
     "name": "stdout",
     "output_type": "stream",
     "text": [
      "9/9 [==============================] - 7s 589ms/step\n"
     ]
    }
   ],
   "source": [
    "Y_pred = model_load.predict(X_test/255)"
   ]
  },
  {
   "cell_type": "code",
   "execution_count": 26,
   "metadata": {},
   "outputs": [
    {
     "data": {
      "text/plain": [
       "(288, 150, 150, 3)"
      ]
     },
     "execution_count": 26,
     "metadata": {},
     "output_type": "execute_result"
    }
   ],
   "source": [
    "X_test.shape"
   ]
  },
  {
   "cell_type": "code",
   "execution_count": 27,
   "metadata": {},
   "outputs": [
    {
     "data": {
      "text/plain": [
       "<Figure size 432x288 with 0 Axes>"
      ]
     },
     "execution_count": 27,
     "metadata": {},
     "output_type": "execute_result"
    },
    {
     "data": {
      "text/plain": [
       "(<matplotlib.image.AxesImage at 0x1a18eb79a50>, (-0.5, 149.5, 149.5, -0.5))"
      ]
     },
     "execution_count": 27,
     "metadata": {},
     "output_type": "execute_result"
    },
    {
     "ename": "NameError",
     "evalue": "name 'encoder' is not defined",
     "output_type": "error",
     "traceback": [
      "\u001b[1;31m---------------------------------------------------------------------------\u001b[0m",
      "\u001b[1;31mNameError\u001b[0m                                 Traceback (most recent call last)",
      "\u001b[1;32md:\\Project\\KP\\new_incV3_hand.ipynb Cell 22\u001b[0m in \u001b[0;36m<cell line: 2>\u001b[1;34m()\u001b[0m\n\u001b[0;32m      <a href='vscode-notebook-cell:/d%3A/Project/KP/new_incV3_hand.ipynb#X32sZmlsZQ%3D%3D?line=3'>4</a>\u001b[0m plt\u001b[39m.\u001b[39mimshow(X_test[rand_num]\u001b[39m.\u001b[39mastype(\u001b[39m'\u001b[39m\u001b[39mint\u001b[39m\u001b[39m'\u001b[39m)), plt\u001b[39m.\u001b[39maxis(\u001b[39m'\u001b[39m\u001b[39moff\u001b[39m\u001b[39m'\u001b[39m)\n\u001b[0;32m      <a href='vscode-notebook-cell:/d%3A/Project/KP/new_incV3_hand.ipynb#X32sZmlsZQ%3D%3D?line=4'>5</a>\u001b[0m \u001b[39mif\u001b[39;00m np\u001b[39m.\u001b[39mwhere(Y_pred[rand_num] \u001b[39m==\u001b[39m \u001b[39m1\u001b[39m)[\u001b[39m0\u001b[39m]\u001b[39m.\u001b[39msum() \u001b[39m==\u001b[39m np\u001b[39m.\u001b[39mwhere(Y_test[rand_num] \u001b[39m==\u001b[39m \u001b[39m1\u001b[39m)[\u001b[39m0\u001b[39m]\u001b[39m.\u001b[39msum():\n\u001b[1;32m----> <a href='vscode-notebook-cell:/d%3A/Project/KP/new_incV3_hand.ipynb#X32sZmlsZQ%3D%3D?line=5'>6</a>\u001b[0m   plt\u001b[39m.\u001b[39mtitle(encoder\u001b[39m.\u001b[39mclasses_[np\u001b[39m.\u001b[39mwhere(Y_pred[rand_num] \u001b[39m==\u001b[39m \u001b[39m1\u001b[39m)[\u001b[39m0\u001b[39m]\u001b[39m.\u001b[39msum()], color\u001b[39m=\u001b[39m\u001b[39m'\u001b[39m\u001b[39mg\u001b[39m\u001b[39m'\u001b[39m)\n\u001b[0;32m      <a href='vscode-notebook-cell:/d%3A/Project/KP/new_incV3_hand.ipynb#X32sZmlsZQ%3D%3D?line=6'>7</a>\u001b[0m \u001b[39melse\u001b[39;00m :\n\u001b[0;32m      <a href='vscode-notebook-cell:/d%3A/Project/KP/new_incV3_hand.ipynb#X32sZmlsZQ%3D%3D?line=7'>8</a>\u001b[0m   plt\u001b[39m.\u001b[39mtitle(encoder\u001b[39m.\u001b[39mclasses_[np\u001b[39m.\u001b[39mwhere(Y_pred[rand_num] \u001b[39m==\u001b[39m \u001b[39m1\u001b[39m)[\u001b[39m0\u001b[39m]\u001b[39m.\u001b[39msum()], color\u001b[39m=\u001b[39m\u001b[39m'\u001b[39m\u001b[39mr\u001b[39m\u001b[39m'\u001b[39m)\n",
      "\u001b[1;31mNameError\u001b[0m: name 'encoder' is not defined"
     ]
    },
    {
     "data": {
      "image/png": "[encoded data removed]",
      "text/plain": [
       "<Figure size 432x288 with 1 Axes>"
      ]
     },
     "metadata": {
      "needs_background": "light"
     },
     "output_type": "display_data"
    }
   ],
   "source": [
    "np.random.seed(89)\n",
    "for rand_num in np.random.randint(0, len(Y_test), 15):\n",
    "  plt.figure()\n",
    "  plt.imshow(X_test[rand_num].astype('int')), plt.axis('off')\n",
    "  if np.where(Y_pred[rand_num] == 1)[0].sum() == np.where(Y_test[rand_num] == 1)[0].sum():\n",
    "    plt.title(encoder.classes_[np.where(Y_pred[rand_num] == 1)[0].sum()], color='g')\n",
    "  else :\n",
    "    plt.title(encoder.classes_[np.where(Y_pred[rand_num] == 1)[0].sum()], color='r')"
   ]
  },
  {
   "cell_type": "markdown",
   "metadata": {},
   "source": [
    "**Shoulder Dataset**"
   ]
  },
  {
   "cell_type": "code",
   "execution_count": 2,
   "metadata": {},
   "outputs": [],
   "source": [
    "objek = 'shoulder'"
   ]
  },
  {
   "cell_type": "code",
   "execution_count": 5,
   "metadata": {},
   "outputs": [
    {
     "name": "stdout",
     "output_type": "stream",
     "text": [
      "0    MURA-v1.1/train/XR_SHOULDER/patient01685/study...\n",
      "1    MURA-v1.1/train/XR_SHOULDER/patient02206/study...\n",
      "2    MURA-v1.1/train/XR_SHOULDER/patient01976/study...\n",
      "3    MURA-v1.1/train/XR_SHOULDER/patient01071/study...\n",
      "4    MURA-v1.1/train/XR_SHOULDER/patient02526/study...\n",
      "Name: path, dtype: object\n",
      "Total Data =  (8364, 150, 150, 3)\n",
      "Data Train (7109, 150, 150, 3)\n",
      "Data Val (1255, 150, 150, 3)\n"
     ]
    }
   ],
   "source": [
    "X, Y = prepare_data(\"{}_with_label_randomized.csv\".format(objek))\n",
    "X = X/255\n",
    "X_train, X_val, Y_train, Y_val = train_test_split(X, Y, test_size=0.15, random_state=13)\n",
    "print(\"Data Train\", X_train.shape)\n",
    "print(\"Data Val\", X_val.shape)"
   ]
  },
  {
   "cell_type": "code",
   "execution_count": 8,
   "metadata": {},
   "outputs": [
    {
     "name": "stdout",
     "output_type": "stream",
     "text": [
      "Epoch 1/20\n",
      "28/28 [==============================] - 165s 5s/step - loss: 0.9739 - acc: 0.5866 - val_loss: 0.6406 - val_acc: 0.6542\n",
      "Epoch 2/20\n",
      "28/28 [==============================] - 151s 5s/step - loss: 0.6074 - acc: 0.6901 - val_loss: 0.6229 - val_acc: 0.6725\n",
      "Epoch 3/20\n",
      "28/28 [==============================] - 146s 5s/step - loss: 0.5714 - acc: 0.7216 - val_loss: 0.6189 - val_acc: 0.6717\n",
      "Epoch 4/20\n",
      "28/28 [==============================] - 148s 5s/step - loss: 0.5516 - acc: 0.7275 - val_loss: 0.6310 - val_acc: 0.6677\n",
      "Epoch 5/20\n",
      "28/28 [==============================] - 166s 6s/step - loss: 0.5257 - acc: 0.7564 - val_loss: 0.6156 - val_acc: 0.6805\n",
      "Epoch 6/20\n",
      "28/28 [==============================] - 158s 6s/step - loss: 0.5030 - acc: 0.7721 - val_loss: 0.6049 - val_acc: 0.6845\n",
      "Epoch 7/20\n",
      "28/28 [==============================] - 152s 5s/step - loss: 0.4828 - acc: 0.7873 - val_loss: 0.6018 - val_acc: 0.6789\n",
      "Epoch 8/20\n",
      "28/28 [==============================] - 155s 6s/step - loss: 0.4632 - acc: 0.8042 - val_loss: 0.6014 - val_acc: 0.6892\n",
      "Epoch 9/20\n",
      "28/28 [==============================] - 154s 6s/step - loss: 0.4489 - acc: 0.8105 - val_loss: 0.6037 - val_acc: 0.6924\n",
      "Epoch 10/20\n",
      "28/28 [==============================] - 154s 6s/step - loss: 0.4309 - acc: 0.8249 - val_loss: 0.5978 - val_acc: 0.6980\n",
      "Epoch 11/20\n",
      "28/28 [==============================] - 150s 5s/step - loss: 0.4127 - acc: 0.8410 - val_loss: 0.5946 - val_acc: 0.6932\n",
      "Epoch 12/20\n",
      "28/28 [==============================] - 153s 5s/step - loss: 0.4027 - acc: 0.8429 - val_loss: 0.6045 - val_acc: 0.7020\n",
      "Epoch 13/20\n",
      "28/28 [==============================] - 149s 5s/step - loss: 0.3859 - acc: 0.8564 - val_loss: 0.5957 - val_acc: 0.6988\n",
      "Epoch 14/20\n",
      "28/28 [==============================] - 153s 6s/step - loss: 0.3734 - acc: 0.8686 - val_loss: 0.5977 - val_acc: 0.7036\n",
      "Epoch 15/20\n",
      "28/28 [==============================] - 149s 5s/step - loss: 0.3594 - acc: 0.8740 - val_loss: 0.6000 - val_acc: 0.6876\n",
      "Epoch 16/20\n",
      "28/28 [==============================] - 150s 5s/step - loss: 0.3473 - acc: 0.8834 - val_loss: 0.5987 - val_acc: 0.6932\n",
      "Epoch 17/20\n",
      "28/28 [==============================] - 149s 5s/step - loss: 0.3336 - acc: 0.8930 - val_loss: 0.5998 - val_acc: 0.6924\n",
      "Epoch 18/20\n",
      "28/28 [==============================] - 149s 5s/step - loss: 0.3243 - acc: 0.8970 - val_loss: 0.6127 - val_acc: 0.7020\n",
      "Epoch 19/20\n",
      "28/28 [==============================] - 155s 6s/step - loss: 0.3081 - acc: 0.9110 - val_loss: 0.6088 - val_acc: 0.6964\n",
      "Epoch 20/20\n",
      "28/28 [==============================] - 164s 6s/step - loss: 0.2993 - acc: 0.9128 - val_loss: 0.6130 - val_acc: 0.6964\n"
     ]
    }
   ],
   "source": [
    "save_at = \"Inception_Model/inception_{}.h5\".format(objek)\n",
    "save_best = ModelCheckpoint (save_at, monitor='val_acc', verbose=0, save_best_only=True, save_weights_only=False, mode='max')\n",
    "hist = model.fit(X_train, Y_train, validation_data = (X_val, Y_val), callbacks=[save_best], batch_size=256, epochs = 20)"
   ]
  },
  {
   "cell_type": "code",
   "execution_count": 10,
   "metadata": {},
   "outputs": [
    {
     "name": "stdout",
     "output_type": "stream",
     "text": [
      "0    MURA-v1.1/valid/XR_SHOULDER/patient11676/study...\n",
      "1    MURA-v1.1/valid/XR_SHOULDER/patient11676/study...\n",
      "2    MURA-v1.1/valid/XR_SHOULDER/patient11676/study...\n",
      "3    MURA-v1.1/valid/XR_SHOULDER/patient11703/study...\n",
      "4    MURA-v1.1/valid/XR_SHOULDER/patient11703/study...\n",
      "Name: path, dtype: object\n",
      "Total Data =  (563, 150, 150, 3)\n"
     ]
    }
   ],
   "source": [
    "X_test, Y_test = prepare_data(\"{}_val_path_label.csv\".format(objek))"
   ]
  },
  {
   "cell_type": "code",
   "execution_count": 11,
   "metadata": {},
   "outputs": [
    {
     "name": "stdout",
     "output_type": "stream",
     "text": [
      "Accuracy over the test set: \n",
      "  50.44 %\n"
     ]
    }
   ],
   "source": [
    "model_load = load_model(\"Inception_Model/inception_{}.h5\".format(objek))\n",
    "score = model_load.evaluate(X_test, Y_test, verbose=0)\n",
    "print('Accuracy over the test set: \\n ', round((score[1]*100), 2), '%')"
   ]
  },
  {
   "cell_type": "code",
   "execution_count": 12,
   "metadata": {},
   "outputs": [
    {
     "name": "stdout",
     "output_type": "stream",
     "text": [
      "18/18 [==============================] - 11s 539ms/step\n"
     ]
    }
   ],
   "source": [
    "Y_pred = model_load.predict(X_test/255)"
   ]
  },
  {
   "cell_type": "code",
   "execution_count": 13,
   "metadata": {},
   "outputs": [
    {
     "data": {
      "text/plain": [
       "(563, 150, 150, 3)"
      ]
     },
     "execution_count": 13,
     "metadata": {},
     "output_type": "execute_result"
    }
   ],
   "source": [
    "X_test.shape"
   ]
  },
  {
   "cell_type": "code",
   "execution_count": 14,
   "metadata": {},
   "outputs": [
    {
     "data": {
      "text/plain": [
       "<Figure size 432x288 with 0 Axes>"
      ]
     },
     "execution_count": 14,
     "metadata": {},
     "output_type": "execute_result"
    },
    {
     "data": {
      "text/plain": [
       "(<matplotlib.image.AxesImage at 0x1e55c1ea320>, (-0.5, 149.5, 149.5, -0.5))"
      ]
     },
     "execution_count": 14,
     "metadata": {},
     "output_type": "execute_result"
    },
    {
     "ename": "NameError",
     "evalue": "name 'encoder' is not defined",
     "output_type": "error",
     "traceback": [
      "\u001b[1;31m---------------------------------------------------------------------------\u001b[0m",
      "\u001b[1;31mNameError\u001b[0m                                 Traceback (most recent call last)",
      "\u001b[1;32md:\\Project\\KP\\new_incV3_hand.ipynb Cell 31\u001b[0m in \u001b[0;36m<cell line: 2>\u001b[1;34m()\u001b[0m\n\u001b[0;32m      <a href='vscode-notebook-cell:/d%3A/Project/KP/new_incV3_hand.ipynb#X42sZmlsZQ%3D%3D?line=5'>6</a>\u001b[0m   plt\u001b[39m.\u001b[39mtitle(encoder\u001b[39m.\u001b[39mclasses_[np\u001b[39m.\u001b[39mwhere(Y_pred[rand_num] \u001b[39m==\u001b[39m \u001b[39m1\u001b[39m)[\u001b[39m0\u001b[39m]\u001b[39m.\u001b[39msum()], color\u001b[39m=\u001b[39m\u001b[39m'\u001b[39m\u001b[39mg\u001b[39m\u001b[39m'\u001b[39m)\n\u001b[0;32m      <a href='vscode-notebook-cell:/d%3A/Project/KP/new_incV3_hand.ipynb#X42sZmlsZQ%3D%3D?line=6'>7</a>\u001b[0m \u001b[39melse\u001b[39;00m :\n\u001b[1;32m----> <a href='vscode-notebook-cell:/d%3A/Project/KP/new_incV3_hand.ipynb#X42sZmlsZQ%3D%3D?line=7'>8</a>\u001b[0m   plt\u001b[39m.\u001b[39mtitle(encoder\u001b[39m.\u001b[39mclasses_[np\u001b[39m.\u001b[39mwhere(Y_pred[rand_num] \u001b[39m==\u001b[39m \u001b[39m1\u001b[39m)[\u001b[39m0\u001b[39m]\u001b[39m.\u001b[39msum()], color\u001b[39m=\u001b[39m\u001b[39m'\u001b[39m\u001b[39mr\u001b[39m\u001b[39m'\u001b[39m)\n",
      "\u001b[1;31mNameError\u001b[0m: name 'encoder' is not defined"
     ]
    },
    {
     "data": {
      "image/png": "[encoded data removed]",
      "text/plain": [
       "<Figure size 432x288 with 1 Axes>"
      ]
     },
     "metadata": {
      "needs_background": "light"
     },
     "output_type": "display_data"
    }
   ],
   "source": [
    "np.random.seed(89)\n",
    "for rand_num in np.random.randint(0, len(Y_test), 15):\n",
    "  plt.figure()\n",
    "  plt.imshow(X_test[rand_num].astype('int')), plt.axis('off')\n",
    "  if np.where(Y_pred[rand_num] == 1)[0].sum() == np.where(Y_test[rand_num] == 1)[0].sum():\n",
    "    plt.title(encoder.classes_[np.where(Y_pred[rand_num] == 1)[0].sum()], color='g')\n",
    "  else :\n",
    "    plt.title(encoder.classes_[np.where(Y_pred[rand_num] == 1)[0].sum()], color='r')"
   ]
  },
  {
   "cell_type": "markdown",
   "metadata": {},
   "source": [
    "**Wrist Dataset**"
   ]
  },
  {
   "cell_type": "code",
   "execution_count": 5,
   "metadata": {},
   "outputs": [],
   "source": [
    "objek = 'wrist'"
   ]
  },
  {
   "cell_type": "code",
   "execution_count": 5,
   "metadata": {},
   "outputs": [
    {
     "name": "stdout",
     "output_type": "stream",
     "text": [
      "0    MURA-v1.1/train/XR_WRIST/patient07688/study1_n...\n",
      "1    MURA-v1.1/train/XR_WRIST/patient06904/study1_p...\n",
      "2    MURA-v1.1/train/XR_WRIST/patient06806/study1_p...\n",
      "3    MURA-v1.1/train/XR_WRIST/patient06442/study1_p...\n",
      "4    MURA-v1.1/train/XR_WRIST/patient00305/study1_n...\n",
      "Name: path, dtype: object\n",
      "Total Data =  (9739, 150, 150, 3)\n",
      "Data Train (8278, 150, 150, 3)\n",
      "Data Val (1461, 150, 150, 3)\n"
     ]
    }
   ],
   "source": [
    "X, Y = prepare_data(\"{}_with_label_randomized.csv\".format(objek))\n",
    "X = X/255\n",
    "X_train, X_val, Y_train, Y_val = train_test_split(X, Y, test_size=0.15, random_state=13)\n",
    "print(\"Data Train\", X_train.shape)\n",
    "print(\"Data Val\", X_val.shape)"
   ]
  },
  {
   "cell_type": "code",
   "execution_count": 6,
   "metadata": {},
   "outputs": [
    {
     "name": "stdout",
     "output_type": "stream",
     "text": [
      "Epoch 1/20\n",
      "33/33 [==============================] - 187s 5s/step - loss: 1.0561 - acc: 0.6187 - val_loss: 0.6117 - val_acc: 0.6790\n",
      "Epoch 2/20\n",
      "33/33 [==============================] - 175s 5s/step - loss: 0.5593 - acc: 0.7341 - val_loss: 0.5474 - val_acc: 0.7180\n",
      "Epoch 3/20\n",
      "33/33 [==============================] - 170s 5s/step - loss: 0.5187 - acc: 0.7569 - val_loss: 0.5321 - val_acc: 0.7379\n",
      "Epoch 4/20\n",
      "33/33 [==============================] - 164s 5s/step - loss: 0.4926 - acc: 0.7722 - val_loss: 0.5216 - val_acc: 0.7495\n",
      "Epoch 5/20\n",
      "33/33 [==============================] - 160s 5s/step - loss: 0.4717 - acc: 0.7861 - val_loss: 0.5184 - val_acc: 0.7515\n",
      "Epoch 6/20\n",
      "33/33 [==============================] - 171s 5s/step - loss: 0.4539 - acc: 0.7971 - val_loss: 0.5082 - val_acc: 0.7645\n",
      "Epoch 7/20\n",
      "33/33 [==============================] - 169s 5s/step - loss: 0.4392 - acc: 0.8074 - val_loss: 0.5052 - val_acc: 0.7714\n",
      "Epoch 8/20\n",
      "33/33 [==============================] - 167s 5s/step - loss: 0.4249 - acc: 0.8137 - val_loss: 0.5033 - val_acc: 0.7652\n",
      "Epoch 9/20\n",
      "33/33 [==============================] - 167s 5s/step - loss: 0.4084 - acc: 0.8253 - val_loss: 0.4990 - val_acc: 0.7680\n",
      "Epoch 10/20\n",
      "33/33 [==============================] - 159s 5s/step - loss: 0.3959 - acc: 0.8338 - val_loss: 0.4953 - val_acc: 0.7707\n",
      "Epoch 11/20\n",
      "33/33 [==============================] - 162s 5s/step - loss: 0.3826 - acc: 0.8397 - val_loss: 0.4925 - val_acc: 0.7728\n",
      "Epoch 12/20\n",
      "33/33 [==============================] - 161s 5s/step - loss: 0.3721 - acc: 0.8419 - val_loss: 0.4957 - val_acc: 0.7693\n",
      "Epoch 13/20\n",
      "33/33 [==============================] - 170s 5s/step - loss: 0.3578 - acc: 0.8562 - val_loss: 0.4924 - val_acc: 0.7645\n",
      "Epoch 14/20\n",
      "33/33 [==============================] - 175s 5s/step - loss: 0.3493 - acc: 0.8596 - val_loss: 0.4926 - val_acc: 0.7748\n",
      "Epoch 15/20\n",
      "33/33 [==============================] - 175s 5s/step - loss: 0.3355 - acc: 0.8727 - val_loss: 0.4915 - val_acc: 0.7659\n",
      "Epoch 16/20\n",
      "33/33 [==============================] - 177s 5s/step - loss: 0.3259 - acc: 0.8774 - val_loss: 0.4945 - val_acc: 0.7680\n",
      "Epoch 17/20\n",
      "33/33 [==============================] - 164s 5s/step - loss: 0.3157 - acc: 0.8829 - val_loss: 0.4919 - val_acc: 0.7659\n",
      "Epoch 18/20\n",
      "33/33 [==============================] - 166s 5s/step - loss: 0.3035 - acc: 0.8887 - val_loss: 0.4916 - val_acc: 0.7687\n",
      "Epoch 19/20\n",
      "33/33 [==============================] - 170s 5s/step - loss: 0.2953 - acc: 0.8972 - val_loss: 0.4907 - val_acc: 0.7775\n",
      "Epoch 20/20\n",
      "33/33 [==============================] - 169s 5s/step - loss: 0.2875 - acc: 0.9002 - val_loss: 0.4919 - val_acc: 0.7782\n"
     ]
    }
   ],
   "source": [
    "save_at = \"Inception_Model/inception_{}.h5\".format(objek)\n",
    "save_best = ModelCheckpoint (save_at, monitor='val_acc', verbose=0, save_best_only=True, save_weights_only=False, mode='max')\n",
    "hist = model.fit(X_train, Y_train, validation_data = (X_val, Y_val), callbacks=[save_best], batch_size=256, epochs = 20)"
   ]
  },
  {
   "cell_type": "code",
   "execution_count": 6,
   "metadata": {},
   "outputs": [
    {
     "name": "stdout",
     "output_type": "stream",
     "text": [
      "0    MURA-v1.1/valid/XR_WRIST/patient11185/study1_p...\n",
      "1    MURA-v1.1/valid/XR_WRIST/patient11185/study1_p...\n",
      "2    MURA-v1.1/valid/XR_WRIST/patient11185/study1_p...\n",
      "3    MURA-v1.1/valid/XR_WRIST/patient11185/study1_p...\n",
      "4    MURA-v1.1/valid/XR_WRIST/patient11186/study1_p...\n",
      "Name: path, dtype: object\n",
      "Total Data =  (659, 150, 150, 3)\n"
     ]
    }
   ],
   "source": [
    "X_test, Y_test = prepare_data(\"{}_val_path_label.csv\".format(objek))"
   ]
  },
  {
   "cell_type": "code",
   "execution_count": 7,
   "metadata": {},
   "outputs": [],
   "source": [
    "model_load = load_model(\"Inception_Model/inception_{}.h5\".format(objek))"
   ]
  },
  {
   "cell_type": "code",
   "execution_count": 8,
   "metadata": {},
   "outputs": [],
   "source": [
    "score = model_load.evaluate(X_test, Y_test, verbose=0)"
   ]
  },
  {
   "cell_type": "code",
   "execution_count": 9,
   "metadata": {},
   "outputs": [
    {
     "name": "stdout",
     "output_type": "stream",
     "text": [
      "Accuracy over the test set: \n",
      "  55.24 %\n"
     ]
    }
   ],
   "source": [
    "print('Accuracy over the test set: \\n ', round((score[1]*100), 2), '%')"
   ]
  },
  {
   "cell_type": "code",
   "execution_count": 10,
   "metadata": {},
   "outputs": [
    {
     "name": "stdout",
     "output_type": "stream",
     "text": [
      "21/21 [==============================] - 13s 580ms/step\n"
     ]
    }
   ],
   "source": [
    "Y_pred = model_load.predict(X_test/255)"
   ]
  },
  {
   "cell_type": "code",
   "execution_count": 11,
   "metadata": {},
   "outputs": [
    {
     "data": {
      "text/plain": [
       "(659, 150, 150, 3)"
      ]
     },
     "execution_count": 11,
     "metadata": {},
     "output_type": "execute_result"
    }
   ],
   "source": [
    "X_test.shape"
   ]
  },
  {
   "cell_type": "code",
   "execution_count": 12,
   "metadata": {},
   "outputs": [
    {
     "data": {
      "text/plain": [
       "<Figure size 432x288 with 0 Axes>"
      ]
     },
     "execution_count": 12,
     "metadata": {},
     "output_type": "execute_result"
    },
    {
     "data": {
      "text/plain": [
       "(<matplotlib.image.AxesImage at 0x11714aab640>, (-0.5, 149.5, 149.5, -0.5))"
      ]
     },
     "execution_count": 12,
     "metadata": {},
     "output_type": "execute_result"
    },
    {
     "ename": "NameError",
     "evalue": "name 'encoder' is not defined",
     "output_type": "error",
     "traceback": [
      "\u001b[1;31m---------------------------------------------------------------------------\u001b[0m",
      "\u001b[1;31mNameError\u001b[0m                                 Traceback (most recent call last)",
      "\u001b[1;32md:\\Project\\KP\\new_incV3_hand.ipynb Cell 42\u001b[0m in \u001b[0;36m<cell line: 2>\u001b[1;34m()\u001b[0m\n\u001b[0;32m      <a href='vscode-notebook-cell:/d%3A/Project/KP/new_incV3_hand.ipynb#X56sZmlsZQ%3D%3D?line=5'>6</a>\u001b[0m   plt\u001b[39m.\u001b[39mtitle(encoder\u001b[39m.\u001b[39mclasses_[np\u001b[39m.\u001b[39mwhere(Y_pred[rand_num] \u001b[39m==\u001b[39m \u001b[39m1\u001b[39m)[\u001b[39m0\u001b[39m]\u001b[39m.\u001b[39msum()], color\u001b[39m=\u001b[39m\u001b[39m'\u001b[39m\u001b[39mg\u001b[39m\u001b[39m'\u001b[39m)\n\u001b[0;32m      <a href='vscode-notebook-cell:/d%3A/Project/KP/new_incV3_hand.ipynb#X56sZmlsZQ%3D%3D?line=6'>7</a>\u001b[0m \u001b[39melse\u001b[39;00m :\n\u001b[1;32m----> <a href='vscode-notebook-cell:/d%3A/Project/KP/new_incV3_hand.ipynb#X56sZmlsZQ%3D%3D?line=7'>8</a>\u001b[0m   plt\u001b[39m.\u001b[39mtitle(encoder\u001b[39m.\u001b[39mclasses_[np\u001b[39m.\u001b[39mwhere(Y_pred[rand_num] \u001b[39m==\u001b[39m \u001b[39m1\u001b[39m)[\u001b[39m0\u001b[39m]\u001b[39m.\u001b[39msum()], color\u001b[39m=\u001b[39m\u001b[39m'\u001b[39m\u001b[39mr\u001b[39m\u001b[39m'\u001b[39m)\n",
      "\u001b[1;31mNameError\u001b[0m: name 'encoder' is not defined"
     ]
    },
    {
     "data": {
      "image/png": "[encoded data removed]",
      "text/plain": [
       "<Figure size 432x288 with 1 Axes>"
      ]
     },
     "metadata": {
      "needs_background": "light"
     },
     "output_type": "display_data"
    }
   ],
   "source": [
    "np.random.seed(89)\n",
    "for rand_num in np.random.randint(0, len(Y_test), 15):\n",
    "  plt.figure()\n",
    "  plt.imshow(X_test[rand_num].astype('int')), plt.axis('off')\n",
    "  if np.where(Y_pred[rand_num] == 1)[0].sum() == np.where(Y_test[rand_num] == 1)[0].sum():\n",
    "    plt.title(encoder.classes_[np.where(Y_pred[rand_num] == 1)[0].sum()], color='g')\n",
    "  else :\n",
    "    plt.title(encoder.classes_[np.where(Y_pred[rand_num] == 1)[0].sum()], color='r')\n"
   ]
  },
  {
   "cell_type": "markdown",
   "metadata": {},
   "source": [
    "**Dataset Elbow**"
   ]
  },
  {
   "cell_type": "code",
   "execution_count": 13,
   "metadata": {},
   "outputs": [],
   "source": [
    "objek = 'elbow'"
   ]
  },
  {
   "cell_type": "code",
   "execution_count": 14,
   "metadata": {},
   "outputs": [
    {
     "name": "stdout",
     "output_type": "stream",
     "text": [
      "0    MURA-v1.1/train/XR_ELBOW/patient05456/study1_p...\n",
      "1    MURA-v1.1/train/XR_ELBOW/patient04779/study1_p...\n",
      "2    MURA-v1.1/train/XR_ELBOW/patient00222/study1_n...\n",
      "3    MURA-v1.1/train/XR_ELBOW/patient05301/study1_p...\n",
      "4    MURA-v1.1/train/XR_ELBOW/patient03193/study1_n...\n",
      "Name: path, dtype: object\n",
      "Total Data =  (4931, 150, 150, 3)\n",
      "Data Train (4191, 150, 150, 3)\n",
      "Data Val (740, 150, 150, 3)\n"
     ]
    }
   ],
   "source": [
    "X, Y = prepare_data(\"{}_with_label_randomized.csv\".format(objek))\n",
    "X = X/255\n",
    "X_train, X_val, Y_train, Y_val = train_test_split(X, Y, test_size=0.15, random_state=13)\n",
    "print(\"Data Train\", X_train.shape)\n",
    "print(\"Data Val\", X_val.shape)"
   ]
  },
  {
   "cell_type": "code",
   "execution_count": 15,
   "metadata": {},
   "outputs": [
    {
     "name": "stdout",
     "output_type": "stream",
     "text": [
      "Epoch 1/20\n",
      "17/17 [==============================] - 111s 5s/step - loss: 1.3496 - acc: 0.5326 - val_loss: 0.7506 - val_acc: 0.6216\n",
      "Epoch 2/20\n",
      "17/17 [==============================] - 89s 5s/step - loss: 0.6549 - acc: 0.6731 - val_loss: 0.5957 - val_acc: 0.7270\n",
      "Epoch 3/20\n",
      "17/17 [==============================] - 90s 5s/step - loss: 0.5780 - acc: 0.7268 - val_loss: 0.5713 - val_acc: 0.7486\n",
      "Epoch 4/20\n",
      "17/17 [==============================] - 90s 5s/step - loss: 0.5482 - acc: 0.7483 - val_loss: 0.5532 - val_acc: 0.7608\n",
      "Epoch 5/20\n",
      "17/17 [==============================] - 85s 5s/step - loss: 0.5181 - acc: 0.7619 - val_loss: 0.5419 - val_acc: 0.7595\n",
      "Epoch 6/20\n",
      "17/17 [==============================] - 88s 5s/step - loss: 0.4954 - acc: 0.7814 - val_loss: 0.5353 - val_acc: 0.7743\n",
      "Epoch 7/20\n",
      "17/17 [==============================] - 89s 5s/step - loss: 0.4757 - acc: 0.7922 - val_loss: 0.5287 - val_acc: 0.7838\n",
      "Epoch 8/20\n",
      "17/17 [==============================] - 89s 5s/step - loss: 0.4631 - acc: 0.8005 - val_loss: 0.5230 - val_acc: 0.7851\n",
      "Epoch 9/20\n",
      "17/17 [==============================] - 85s 5s/step - loss: 0.4442 - acc: 0.8165 - val_loss: 0.5143 - val_acc: 0.7784\n",
      "Epoch 10/20\n",
      "17/17 [==============================] - 84s 5s/step - loss: 0.4271 - acc: 0.8277 - val_loss: 0.5115 - val_acc: 0.7824\n",
      "Epoch 11/20\n",
      "17/17 [==============================] - 88s 5s/step - loss: 0.4143 - acc: 0.8337 - val_loss: 0.5078 - val_acc: 0.7932\n",
      "Epoch 12/20\n",
      "17/17 [==============================] - 84s 5s/step - loss: 0.3976 - acc: 0.8435 - val_loss: 0.5033 - val_acc: 0.7784\n",
      "Epoch 13/20\n",
      "17/17 [==============================] - 85s 5s/step - loss: 0.3877 - acc: 0.8492 - val_loss: 0.5060 - val_acc: 0.7784\n",
      "Epoch 14/20\n",
      "17/17 [==============================] - 87s 5s/step - loss: 0.3788 - acc: 0.8528 - val_loss: 0.5006 - val_acc: 0.7757\n",
      "Epoch 15/20\n",
      "17/17 [==============================] - 89s 5s/step - loss: 0.3654 - acc: 0.8628 - val_loss: 0.4976 - val_acc: 0.7946\n",
      "Epoch 16/20\n",
      "17/17 [==============================] - 84s 5s/step - loss: 0.3536 - acc: 0.8692 - val_loss: 0.4967 - val_acc: 0.7838\n",
      "Epoch 17/20\n",
      "17/17 [==============================] - 85s 5s/step - loss: 0.3398 - acc: 0.8750 - val_loss: 0.4917 - val_acc: 0.7919\n",
      "Epoch 18/20\n",
      "17/17 [==============================] - 86s 5s/step - loss: 0.3299 - acc: 0.8795 - val_loss: 0.4918 - val_acc: 0.7811\n",
      "Epoch 19/20\n",
      "17/17 [==============================] - 86s 5s/step - loss: 0.3215 - acc: 0.8888 - val_loss: 0.4901 - val_acc: 0.7946\n",
      "Epoch 20/20\n",
      "17/17 [==============================] - 89s 5s/step - loss: 0.3118 - acc: 0.8926 - val_loss: 0.4873 - val_acc: 0.7986\n"
     ]
    }
   ],
   "source": [
    "save_at = \"Inception_Model/inception_{}.h5\".format(objek)\n",
    "save_best = ModelCheckpoint (save_at, monitor='val_acc', verbose=0, save_best_only=True, save_weights_only=False, mode='max')\n",
    "hist = model.fit(X_train, Y_train, validation_data = (X_val, Y_val), callbacks=[save_best], batch_size=256, epochs = 20)"
   ]
  },
  {
   "cell_type": "code",
   "execution_count": 16,
   "metadata": {},
   "outputs": [
    {
     "name": "stdout",
     "output_type": "stream",
     "text": [
      "0    MURA-v1.1/valid/XR_ELBOW/patient11659/study1_p...\n",
      "1    MURA-v1.1/valid/XR_ELBOW/patient11659/study1_p...\n",
      "2    MURA-v1.1/valid/XR_ELBOW/patient11659/study1_p...\n",
      "3    MURA-v1.1/valid/XR_ELBOW/patient11802/study1_p...\n",
      "4    MURA-v1.1/valid/XR_ELBOW/patient11802/study1_p...\n",
      "Name: path, dtype: object\n",
      "Total Data =  (465, 150, 150, 3)\n"
     ]
    }
   ],
   "source": [
    "X_test, Y_test = prepare_data(\"{}_val_path_label.csv\".format(objek))"
   ]
  },
  {
   "cell_type": "code",
   "execution_count": 17,
   "metadata": {},
   "outputs": [
    {
     "name": "stdout",
     "output_type": "stream",
     "text": [
      "Accuracy over the test set: \n",
      "  53.33 %\n"
     ]
    }
   ],
   "source": [
    "model_load = load_model(\"Inception_Model/inception_{}.h5\".format(objek))\n",
    "score = model_load.evaluate(X_test, Y_test, verbose=0)\n",
    "print('Accuracy over the test set: \\n ', round((score[1]*100), 2), '%')"
   ]
  },
  {
   "cell_type": "code",
   "execution_count": 18,
   "metadata": {},
   "outputs": [
    {
     "name": "stdout",
     "output_type": "stream",
     "text": [
      "15/15 [==============================] - 10s 591ms/step\n"
     ]
    }
   ],
   "source": [
    "Y_pred = model_load.predict(X_test/255)"
   ]
  },
  {
   "cell_type": "code",
   "execution_count": 19,
   "metadata": {},
   "outputs": [
    {
     "data": {
      "text/plain": [
       "(465, 150, 150, 3)"
      ]
     },
     "execution_count": 19,
     "metadata": {},
     "output_type": "execute_result"
    }
   ],
   "source": [
    "X_test.shape"
   ]
  },
  {
   "cell_type": "code",
   "execution_count": 20,
   "metadata": {},
   "outputs": [
    {
     "data": {
      "text/plain": [
       "<Figure size 432x288 with 0 Axes>"
      ]
     },
     "execution_count": 20,
     "metadata": {},
     "output_type": "execute_result"
    },
    {
     "data": {
      "text/plain": [
       "(<matplotlib.image.AxesImage at 0x11713b8f670>, (-0.5, 149.5, 149.5, -0.5))"
      ]
     },
     "execution_count": 20,
     "metadata": {},
     "output_type": "execute_result"
    },
    {
     "ename": "NameError",
     "evalue": "name 'encoder' is not defined",
     "output_type": "error",
     "traceback": [
      "\u001b[1;31m---------------------------------------------------------------------------\u001b[0m",
      "\u001b[1;31mNameError\u001b[0m                                 Traceback (most recent call last)",
      "\u001b[1;32md:\\Project\\KP\\new_incV3_hand.ipynb Cell 51\u001b[0m in \u001b[0;36m<cell line: 2>\u001b[1;34m()\u001b[0m\n\u001b[0;32m      <a href='vscode-notebook-cell:/d%3A/Project/KP/new_incV3_hand.ipynb#Y101sZmlsZQ%3D%3D?line=3'>4</a>\u001b[0m plt\u001b[39m.\u001b[39mimshow(X_test[rand_num]\u001b[39m.\u001b[39mastype(\u001b[39m'\u001b[39m\u001b[39mint\u001b[39m\u001b[39m'\u001b[39m)), plt\u001b[39m.\u001b[39maxis(\u001b[39m'\u001b[39m\u001b[39moff\u001b[39m\u001b[39m'\u001b[39m)\n\u001b[0;32m      <a href='vscode-notebook-cell:/d%3A/Project/KP/new_incV3_hand.ipynb#Y101sZmlsZQ%3D%3D?line=4'>5</a>\u001b[0m \u001b[39mif\u001b[39;00m np\u001b[39m.\u001b[39mwhere(Y_pred[rand_num] \u001b[39m==\u001b[39m \u001b[39m1\u001b[39m)[\u001b[39m0\u001b[39m]\u001b[39m.\u001b[39msum() \u001b[39m==\u001b[39m np\u001b[39m.\u001b[39mwhere(Y_test[rand_num] \u001b[39m==\u001b[39m \u001b[39m1\u001b[39m)[\u001b[39m0\u001b[39m]\u001b[39m.\u001b[39msum():\n\u001b[1;32m----> <a href='vscode-notebook-cell:/d%3A/Project/KP/new_incV3_hand.ipynb#Y101sZmlsZQ%3D%3D?line=5'>6</a>\u001b[0m   plt\u001b[39m.\u001b[39mtitle(encoder\u001b[39m.\u001b[39mclasses_[np\u001b[39m.\u001b[39mwhere(Y_pred[rand_num] \u001b[39m==\u001b[39m \u001b[39m1\u001b[39m)[\u001b[39m0\u001b[39m]\u001b[39m.\u001b[39msum()], color\u001b[39m=\u001b[39m\u001b[39m'\u001b[39m\u001b[39mg\u001b[39m\u001b[39m'\u001b[39m)\n\u001b[0;32m      <a href='vscode-notebook-cell:/d%3A/Project/KP/new_incV3_hand.ipynb#Y101sZmlsZQ%3D%3D?line=6'>7</a>\u001b[0m \u001b[39melse\u001b[39;00m :\n\u001b[0;32m      <a href='vscode-notebook-cell:/d%3A/Project/KP/new_incV3_hand.ipynb#Y101sZmlsZQ%3D%3D?line=7'>8</a>\u001b[0m   plt\u001b[39m.\u001b[39mtitle(encoder\u001b[39m.\u001b[39mclasses_[np\u001b[39m.\u001b[39mwhere(Y_pred[rand_num] \u001b[39m==\u001b[39m \u001b[39m1\u001b[39m)[\u001b[39m0\u001b[39m]\u001b[39m.\u001b[39msum()], color\u001b[39m=\u001b[39m\u001b[39m'\u001b[39m\u001b[39mr\u001b[39m\u001b[39m'\u001b[39m)\n",
      "\u001b[1;31mNameError\u001b[0m: name 'encoder' is not defined"
     ]
    },
    {
     "data": {
      "image/png": "[encoded data removed]",
      "text/plain": [
       "<Figure size 432x288 with 1 Axes>"
      ]
     },
     "metadata": {
      "needs_background": "light"
     },
     "output_type": "display_data"
    }
   ],
   "source": [
    "np.random.seed(89)\n",
    "for rand_num in np.random.randint(0, len(Y_test), 15):\n",
    "  plt.figure()\n",
    "  plt.imshow(X_test[rand_num].astype('int')), plt.axis('off')\n",
    "  if np.where(Y_pred[rand_num] == 1)[0].sum() == np.where(Y_test[rand_num] == 1)[0].sum():\n",
    "    plt.title(encoder.classes_[np.where(Y_pred[rand_num] == 1)[0].sum()], color='g')\n",
    "  else :\n",
    "    plt.title(encoder.classes_[np.where(Y_pred[rand_num] == 1)[0].sum()], color='r')"
   ]
  },
  {
   "cell_type": "markdown",
   "metadata": {},
   "source": [
    "**Finger Dataset**"
   ]
  },
  {
   "cell_type": "code",
   "execution_count": 21,
   "metadata": {},
   "outputs": [],
   "source": [
    "objek = 'finger'"
   ]
  },
  {
   "cell_type": "code",
   "execution_count": 22,
   "metadata": {},
   "outputs": [
    {
     "name": "stdout",
     "output_type": "stream",
     "text": [
      "0    MURA-v1.1/train/XR_FINGER/patient03402/study1_...\n",
      "1    MURA-v1.1/train/XR_FINGER/patient04428/study1_...\n",
      "2    MURA-v1.1/train/XR_FINGER/patient03833/study1_...\n",
      "3    MURA-v1.1/train/XR_FINGER/patient04139/study1_...\n",
      "4    MURA-v1.1/train/XR_FINGER/patient02922/study1_...\n",
      "Name: path, dtype: object\n",
      "Total Data =  (5106, 150, 150, 3)\n",
      "Data Train (4340, 150, 150, 3)\n",
      "Data Val (766, 150, 150, 3)\n"
     ]
    }
   ],
   "source": [
    "X, Y = prepare_data(\"{}_with_label_randomized.csv\".format(objek))\n",
    "X = X/255\n",
    "X_train, X_val, Y_train, Y_val = train_test_split(X, Y, test_size=0.15, random_state=13)\n",
    "print(\"Data Train\", X_train.shape)\n",
    "print(\"Data Val\", X_val.shape)"
   ]
  },
  {
   "cell_type": "code",
   "execution_count": 23,
   "metadata": {},
   "outputs": [
    {
     "name": "stdout",
     "output_type": "stream",
     "text": [
      "Epoch 1/20\n",
      "17/17 [==============================] - 99s 6s/step - loss: 0.6752 - acc: 0.6431 - val_loss: 0.6115 - val_acc: 0.6749\n",
      "Epoch 2/20\n",
      "17/17 [==============================] - 93s 6s/step - loss: 0.5737 - acc: 0.7058 - val_loss: 0.5811 - val_acc: 0.6854\n",
      "Epoch 3/20\n",
      "17/17 [==============================] - 90s 5s/step - loss: 0.5339 - acc: 0.7302 - val_loss: 0.5725 - val_acc: 0.6815\n",
      "Epoch 4/20\n",
      "17/17 [==============================] - 93s 6s/step - loss: 0.5042 - acc: 0.7553 - val_loss: 0.5656 - val_acc: 0.6919\n",
      "Epoch 5/20\n",
      "17/17 [==============================] - 89s 5s/step - loss: 0.4804 - acc: 0.7684 - val_loss: 0.5637 - val_acc: 0.6854\n",
      "Epoch 6/20\n",
      "17/17 [==============================] - 94s 6s/step - loss: 0.4619 - acc: 0.7841 - val_loss: 0.5623 - val_acc: 0.6984\n",
      "Epoch 7/20\n",
      "17/17 [==============================] - 96s 6s/step - loss: 0.4430 - acc: 0.7993 - val_loss: 0.5584 - val_acc: 0.6971\n",
      "Epoch 8/20\n",
      "17/17 [==============================] - 95s 6s/step - loss: 0.4286 - acc: 0.8138 - val_loss: 0.5607 - val_acc: 0.6971\n",
      "Epoch 9/20\n",
      "17/17 [==============================] - 92s 5s/step - loss: 0.4093 - acc: 0.8283 - val_loss: 0.5570 - val_acc: 0.6997\n",
      "Epoch 10/20\n",
      "17/17 [==============================] - 92s 5s/step - loss: 0.3926 - acc: 0.8396 - val_loss: 0.5567 - val_acc: 0.7089\n",
      "Epoch 11/20\n",
      "17/17 [==============================] - 90s 5s/step - loss: 0.3777 - acc: 0.8528 - val_loss: 0.5561 - val_acc: 0.6971\n",
      "Epoch 12/20\n",
      "17/17 [==============================] - 92s 5s/step - loss: 0.3628 - acc: 0.8668 - val_loss: 0.5557 - val_acc: 0.7102\n",
      "Epoch 13/20\n",
      "17/17 [==============================] - 89s 5s/step - loss: 0.3494 - acc: 0.8737 - val_loss: 0.5586 - val_acc: 0.6997\n",
      "Epoch 14/20\n",
      "17/17 [==============================] - 89s 5s/step - loss: 0.3408 - acc: 0.8804 - val_loss: 0.5556 - val_acc: 0.7023\n",
      "Epoch 15/20\n",
      "17/17 [==============================] - 88s 5s/step - loss: 0.3240 - acc: 0.8933 - val_loss: 0.5546 - val_acc: 0.6997\n",
      "Epoch 16/20\n",
      "17/17 [==============================] - 89s 5s/step - loss: 0.3134 - acc: 0.9044 - val_loss: 0.5591 - val_acc: 0.7167\n",
      "Epoch 17/20\n",
      "17/17 [==============================] - 84s 5s/step - loss: 0.3015 - acc: 0.9083 - val_loss: 0.5581 - val_acc: 0.7128\n",
      "Epoch 18/20\n",
      "17/17 [==============================] - 84s 5s/step - loss: 0.2895 - acc: 0.9187 - val_loss: 0.5600 - val_acc: 0.7102\n",
      "Epoch 19/20\n",
      "17/17 [==============================] - 85s 5s/step - loss: 0.2764 - acc: 0.9295 - val_loss: 0.5665 - val_acc: 0.7050\n",
      "Epoch 20/20\n",
      "17/17 [==============================] - 92s 5s/step - loss: 0.2714 - acc: 0.9290 - val_loss: 0.5600 - val_acc: 0.7037\n"
     ]
    }
   ],
   "source": [
    "save_at = \"Inception_Model/inception_{}.h5\".format(objek)\n",
    "save_best = ModelCheckpoint (save_at, monitor='val_acc', verbose=0, save_best_only=True, save_weights_only=False, mode='max')\n",
    "hist = model.fit(X_train, Y_train, validation_data = (X_val, Y_val), callbacks=[save_best], batch_size=256, epochs = 20)"
   ]
  },
  {
   "cell_type": "code",
   "execution_count": 24,
   "metadata": {},
   "outputs": [
    {
     "name": "stdout",
     "output_type": "stream",
     "text": [
      "0    MURA-v1.1/valid/XR_FINGER/patient11882/study1_...\n",
      "1    MURA-v1.1/valid/XR_FINGER/patient11882/study1_...\n",
      "2    MURA-v1.1/valid/XR_FINGER/patient11883/study1_...\n",
      "3    MURA-v1.1/valid/XR_FINGER/patient11883/study1_...\n",
      "4    MURA-v1.1/valid/XR_FINGER/patient11883/study1_...\n",
      "Name: path, dtype: object\n",
      "Total Data =  (461, 150, 150, 3)\n"
     ]
    }
   ],
   "source": [
    "X_test, Y_test = prepare_data(\"{}_val_path_label.csv\".format(objek))"
   ]
  },
  {
   "cell_type": "code",
   "execution_count": 25,
   "metadata": {},
   "outputs": [
    {
     "name": "stdout",
     "output_type": "stream",
     "text": [
      "Accuracy over the test set: \n",
      "  46.42 %\n"
     ]
    }
   ],
   "source": [
    "model_load = load_model(\"Inception_Model/inception_{}.h5\".format(objek))\n",
    "score = model_load.evaluate(X_test, Y_test, verbose=0)\n",
    "print('Accuracy over the test set: \\n ', round((score[1]*100), 2), '%')"
   ]
  },
  {
   "cell_type": "code",
   "execution_count": 26,
   "metadata": {},
   "outputs": [
    {
     "name": "stdout",
     "output_type": "stream",
     "text": [
      "15/15 [==============================] - 10s 597ms/step\n"
     ]
    }
   ],
   "source": [
    "Y_pred = model_load.predict(X_test/255)"
   ]
  },
  {
   "cell_type": "code",
   "execution_count": 27,
   "metadata": {},
   "outputs": [
    {
     "data": {
      "text/plain": [
       "(461, 150, 150, 3)"
      ]
     },
     "execution_count": 27,
     "metadata": {},
     "output_type": "execute_result"
    }
   ],
   "source": [
    "X_test.shape"
   ]
  },
  {
   "cell_type": "code",
   "execution_count": 28,
   "metadata": {},
   "outputs": [
    {
     "data": {
      "text/plain": [
       "<Figure size 432x288 with 0 Axes>"
      ]
     },
     "execution_count": 28,
     "metadata": {},
     "output_type": "execute_result"
    },
    {
     "data": {
      "text/plain": [
       "(<matplotlib.image.AxesImage at 0x11735956ad0>, (-0.5, 149.5, 149.5, -0.5))"
      ]
     },
     "execution_count": 28,
     "metadata": {},
     "output_type": "execute_result"
    },
    {
     "ename": "NameError",
     "evalue": "name 'encoder' is not defined",
     "output_type": "error",
     "traceback": [
      "\u001b[1;31m---------------------------------------------------------------------------\u001b[0m",
      "\u001b[1;31mNameError\u001b[0m                                 Traceback (most recent call last)",
      "\u001b[1;32md:\\Project\\KP\\new_incV3_hand.ipynb Cell 60\u001b[0m in \u001b[0;36m<cell line: 2>\u001b[1;34m()\u001b[0m\n\u001b[0;32m      <a href='vscode-notebook-cell:/d%3A/Project/KP/new_incV3_hand.ipynb#Y113sZmlsZQ%3D%3D?line=3'>4</a>\u001b[0m plt\u001b[39m.\u001b[39mimshow(X_test[rand_num]\u001b[39m.\u001b[39mastype(\u001b[39m'\u001b[39m\u001b[39mint\u001b[39m\u001b[39m'\u001b[39m)), plt\u001b[39m.\u001b[39maxis(\u001b[39m'\u001b[39m\u001b[39moff\u001b[39m\u001b[39m'\u001b[39m)\n\u001b[0;32m      <a href='vscode-notebook-cell:/d%3A/Project/KP/new_incV3_hand.ipynb#Y113sZmlsZQ%3D%3D?line=4'>5</a>\u001b[0m \u001b[39mif\u001b[39;00m np\u001b[39m.\u001b[39mwhere(Y_pred[rand_num] \u001b[39m==\u001b[39m \u001b[39m1\u001b[39m)[\u001b[39m0\u001b[39m]\u001b[39m.\u001b[39msum() \u001b[39m==\u001b[39m np\u001b[39m.\u001b[39mwhere(Y_test[rand_num] \u001b[39m==\u001b[39m \u001b[39m1\u001b[39m)[\u001b[39m0\u001b[39m]\u001b[39m.\u001b[39msum():\n\u001b[1;32m----> <a href='vscode-notebook-cell:/d%3A/Project/KP/new_incV3_hand.ipynb#Y113sZmlsZQ%3D%3D?line=5'>6</a>\u001b[0m   plt\u001b[39m.\u001b[39mtitle(encoder\u001b[39m.\u001b[39mclasses_[np\u001b[39m.\u001b[39mwhere(Y_pred[rand_num] \u001b[39m==\u001b[39m \u001b[39m1\u001b[39m)[\u001b[39m0\u001b[39m]\u001b[39m.\u001b[39msum()], color\u001b[39m=\u001b[39m\u001b[39m'\u001b[39m\u001b[39mg\u001b[39m\u001b[39m'\u001b[39m)\n\u001b[0;32m      <a href='vscode-notebook-cell:/d%3A/Project/KP/new_incV3_hand.ipynb#Y113sZmlsZQ%3D%3D?line=6'>7</a>\u001b[0m \u001b[39melse\u001b[39;00m :\n\u001b[0;32m      <a href='vscode-notebook-cell:/d%3A/Project/KP/new_incV3_hand.ipynb#Y113sZmlsZQ%3D%3D?line=7'>8</a>\u001b[0m   plt\u001b[39m.\u001b[39mtitle(encoder\u001b[39m.\u001b[39mclasses_[np\u001b[39m.\u001b[39mwhere(Y_pred[rand_num] \u001b[39m==\u001b[39m \u001b[39m1\u001b[39m)[\u001b[39m0\u001b[39m]\u001b[39m.\u001b[39msum()], color\u001b[39m=\u001b[39m\u001b[39m'\u001b[39m\u001b[39mr\u001b[39m\u001b[39m'\u001b[39m)\n",
      "\u001b[1;31mNameError\u001b[0m: name 'encoder' is not defined"
     ]
    },
    {
     "data": {
      "image/png": "[encoded data removed]",
      "text/plain": [
       "<Figure size 432x288 with 1 Axes>"
      ]
     },
     "metadata": {
      "needs_background": "light"
     },
     "output_type": "display_data"
    }
   ],
   "source": [
    "np.random.seed(89)\n",
    "for rand_num in np.random.randint(0, len(Y_test), 15):\n",
    "  plt.figure()\n",
    "  plt.imshow(X_test[rand_num].astype('int')), plt.axis('off')\n",
    "  if np.where(Y_pred[rand_num] == 1)[0].sum() == np.where(Y_test[rand_num] == 1)[0].sum():\n",
    "    plt.title(encoder.classes_[np.where(Y_pred[rand_num] == 1)[0].sum()], color='g')\n",
    "  else :\n",
    "    plt.title(encoder.classes_[np.where(Y_pred[rand_num] == 1)[0].sum()], color='r')"
   ]
  },
  {
   "cell_type": "markdown",
   "metadata": {},
   "source": [
    "**Forearm Dataset**"
   ]
  },
  {
   "cell_type": "code",
   "execution_count": 4,
   "metadata": {},
   "outputs": [],
   "source": [
    "objek = 'forearm'"
   ]
  },
  {
   "cell_type": "code",
   "execution_count": 30,
   "metadata": {},
   "outputs": [
    {
     "name": "stdout",
     "output_type": "stream",
     "text": [
      "0    MURA-v1.1/train/XR_FOREARM/patient09614/study1...\n",
      "1    MURA-v1.1/train/XR_FOREARM/patient09541/study1...\n",
      "2    MURA-v1.1/train/XR_FOREARM/patient01951/study1...\n",
      "3    MURA-v1.1/train/XR_FOREARM/patient09113/study1...\n",
      "4    MURA-v1.1/train/XR_FOREARM/patient09552/study1...\n",
      "Name: path, dtype: object\n",
      "Total Data =  (1825, 150, 150, 3)\n",
      "Data Train (1551, 150, 150, 3)\n",
      "Data Val (274, 150, 150, 3)\n"
     ]
    }
   ],
   "source": [
    "X, Y = prepare_data(\"{}_with_label_randomized.csv\".format(objek))\n",
    "X = X/255\n",
    "X_train, X_val, Y_train, Y_val = train_test_split(X, Y, test_size=0.15, random_state=13)\n",
    "print(\"Data Train\", X_train.shape)\n",
    "print(\"Data Val\", X_val.shape)"
   ]
  },
  {
   "cell_type": "code",
   "execution_count": 31,
   "metadata": {},
   "outputs": [
    {
     "name": "stdout",
     "output_type": "stream",
     "text": [
      "Epoch 1/20\n",
      "7/7 [==============================] - 35s 5s/step - loss: 0.6204 - acc: 0.6957 - val_loss: 0.6203 - val_acc: 0.7044\n",
      "Epoch 2/20\n",
      "7/7 [==============================] - 35s 5s/step - loss: 0.5433 - acc: 0.7466 - val_loss: 0.5579 - val_acc: 0.7518\n",
      "Epoch 3/20\n",
      "7/7 [==============================] - 32s 5s/step - loss: 0.4950 - acc: 0.7737 - val_loss: 0.6047 - val_acc: 0.7336\n",
      "Epoch 4/20\n",
      "7/7 [==============================] - 36s 5s/step - loss: 0.4578 - acc: 0.8053 - val_loss: 0.5313 - val_acc: 0.7664\n",
      "Epoch 5/20\n",
      "7/7 [==============================] - 32s 5s/step - loss: 0.4307 - acc: 0.8227 - val_loss: 0.5484 - val_acc: 0.7518\n",
      "Epoch 6/20\n",
      "7/7 [==============================] - 34s 5s/step - loss: 0.3906 - acc: 0.8440 - val_loss: 0.5041 - val_acc: 0.7810\n",
      "Epoch 7/20\n",
      "7/7 [==============================] - 32s 5s/step - loss: 0.3738 - acc: 0.8511 - val_loss: 0.5080 - val_acc: 0.7774\n",
      "Epoch 8/20\n",
      "7/7 [==============================] - 32s 5s/step - loss: 0.3553 - acc: 0.8678 - val_loss: 0.4887 - val_acc: 0.7774\n",
      "Epoch 9/20\n",
      "7/7 [==============================] - 36s 5s/step - loss: 0.3308 - acc: 0.8859 - val_loss: 0.5036 - val_acc: 0.7920\n",
      "Epoch 10/20\n",
      "7/7 [==============================] - 32s 5s/step - loss: 0.3236 - acc: 0.8736 - val_loss: 0.4982 - val_acc: 0.7774\n",
      "Epoch 11/20\n",
      "7/7 [==============================] - 32s 5s/step - loss: 0.3135 - acc: 0.8917 - val_loss: 0.5082 - val_acc: 0.7810\n",
      "Epoch 12/20\n",
      "7/7 [==============================] - 32s 5s/step - loss: 0.2967 - acc: 0.8852 - val_loss: 0.5018 - val_acc: 0.7883\n",
      "Epoch 13/20\n",
      "7/7 [==============================] - 32s 5s/step - loss: 0.2778 - acc: 0.9136 - val_loss: 0.4944 - val_acc: 0.7847\n",
      "Epoch 14/20\n",
      "7/7 [==============================] - 32s 5s/step - loss: 0.2633 - acc: 0.9136 - val_loss: 0.5096 - val_acc: 0.7883\n",
      "Epoch 15/20\n",
      "7/7 [==============================] - 32s 5s/step - loss: 0.2542 - acc: 0.9188 - val_loss: 0.4947 - val_acc: 0.7920\n",
      "Epoch 16/20\n",
      "7/7 [==============================] - 32s 5s/step - loss: 0.2457 - acc: 0.9284 - val_loss: 0.5001 - val_acc: 0.7883\n",
      "Epoch 17/20\n",
      "7/7 [==============================] - 32s 5s/step - loss: 0.2349 - acc: 0.9310 - val_loss: 0.4977 - val_acc: 0.7847\n",
      "Epoch 18/20\n",
      "7/7 [==============================] - 32s 5s/step - loss: 0.2283 - acc: 0.9407 - val_loss: 0.5140 - val_acc: 0.7847\n",
      "Epoch 19/20\n",
      "7/7 [==============================] - 31s 4s/step - loss: 0.2227 - acc: 0.9336 - val_loss: 0.5077 - val_acc: 0.7774\n",
      "Epoch 20/20\n",
      "7/7 [==============================] - 30s 4s/step - loss: 0.2147 - acc: 0.9433 - val_loss: 0.5052 - val_acc: 0.7701\n"
     ]
    }
   ],
   "source": [
    "save_at = \"Inception_Model/inception_{}.h5\".format(objek)\n",
    "save_best = ModelCheckpoint (save_at, monitor='val_acc', verbose=0, save_best_only=True, save_weights_only=False, mode='max')\n",
    "hist = model.fit(X_train, Y_train, validation_data = (X_val, Y_val), callbacks=[save_best], batch_size=256, epochs = 20)"
   ]
  },
  {
   "cell_type": "code",
   "execution_count": 5,
   "metadata": {},
   "outputs": [
    {
     "name": "stdout",
     "output_type": "stream",
     "text": [
      "0    MURA-v1.1/valid/XR_FOREARM/patient11392/study1...\n",
      "1    MURA-v1.1/valid/XR_FOREARM/patient11392/study1...\n",
      "2    MURA-v1.1/valid/XR_FOREARM/patient11392/study1...\n",
      "3    MURA-v1.1/valid/XR_FOREARM/patient11393/study1...\n",
      "4    MURA-v1.1/valid/XR_FOREARM/patient11393/study1...\n",
      "Name: path, dtype: object\n",
      "Total Data =  (301, 150, 150, 3)\n"
     ]
    }
   ],
   "source": [
    "X_test, Y_test = prepare_data(\"{}_val_path_label.csv\".format(objek))"
   ]
  },
  {
   "cell_type": "code",
   "execution_count": 6,
   "metadata": {},
   "outputs": [
    {
     "name": "stdout",
     "output_type": "stream",
     "text": [
      "Accuracy over the test set: \n",
      "  49.83 %\n"
     ]
    }
   ],
   "source": [
    "model_load = load_model(\"Inception_Model/inception_{}.h5\".format(objek))\n",
    "score = model_load.evaluate(X_test, Y_test, verbose=0)\n",
    "print('Accuracy over the test set: \\n ', round((score[1]*100), 2), '%')"
   ]
  },
  {
   "cell_type": "code",
   "execution_count": 7,
   "metadata": {},
   "outputs": [
    {
     "name": "stdout",
     "output_type": "stream",
     "text": [
      "10/10 [==============================] - 6s 492ms/step\n"
     ]
    }
   ],
   "source": [
    "Y_pred = model_load.predict(X_test/255)"
   ]
  },
  {
   "cell_type": "code",
   "execution_count": null,
   "metadata": {},
   "outputs": [],
   "source": [
    "X_test.shape"
   ]
  },
  {
   "cell_type": "code",
   "execution_count": 8,
   "metadata": {},
   "outputs": [
    {
     "data": {
      "text/plain": [
       "<Figure size 432x288 with 0 Axes>"
      ]
     },
     "execution_count": 8,
     "metadata": {},
     "output_type": "execute_result"
    },
    {
     "data": {
      "text/plain": [
       "(<matplotlib.image.AxesImage at 0x25121fd72b0>, (-0.5, 149.5, 149.5, -0.5))"
      ]
     },
     "execution_count": 8,
     "metadata": {},
     "output_type": "execute_result"
    },
    {
     "ename": "NameError",
     "evalue": "name 'encoder' is not defined",
     "output_type": "error",
     "traceback": [
      "\u001b[1;31m---------------------------------------------------------------------------\u001b[0m",
      "\u001b[1;31mNameError\u001b[0m                                 Traceback (most recent call last)",
      "\u001b[1;32md:\\Project\\KP\\new_incV3_hand.ipynb Cell 69\u001b[0m in \u001b[0;36m<cell line: 2>\u001b[1;34m()\u001b[0m\n\u001b[0;32m      <a href='vscode-notebook-cell:/d%3A/Project/KP/new_incV3_hand.ipynb#Y125sZmlsZQ%3D%3D?line=3'>4</a>\u001b[0m plt\u001b[39m.\u001b[39mimshow(X_test[rand_num]\u001b[39m.\u001b[39mastype(\u001b[39m'\u001b[39m\u001b[39mint\u001b[39m\u001b[39m'\u001b[39m)), plt\u001b[39m.\u001b[39maxis(\u001b[39m'\u001b[39m\u001b[39moff\u001b[39m\u001b[39m'\u001b[39m)\n\u001b[0;32m      <a href='vscode-notebook-cell:/d%3A/Project/KP/new_incV3_hand.ipynb#Y125sZmlsZQ%3D%3D?line=4'>5</a>\u001b[0m \u001b[39mif\u001b[39;00m np\u001b[39m.\u001b[39mwhere(Y_pred[rand_num] \u001b[39m==\u001b[39m \u001b[39m1\u001b[39m)[\u001b[39m0\u001b[39m]\u001b[39m.\u001b[39msum() \u001b[39m==\u001b[39m np\u001b[39m.\u001b[39mwhere(Y_test[rand_num] \u001b[39m==\u001b[39m \u001b[39m1\u001b[39m)[\u001b[39m0\u001b[39m]\u001b[39m.\u001b[39msum():\n\u001b[1;32m----> <a href='vscode-notebook-cell:/d%3A/Project/KP/new_incV3_hand.ipynb#Y125sZmlsZQ%3D%3D?line=5'>6</a>\u001b[0m   plt\u001b[39m.\u001b[39mtitle(encoder\u001b[39m.\u001b[39mclasses_[np\u001b[39m.\u001b[39mwhere(Y_pred[rand_num] \u001b[39m==\u001b[39m \u001b[39m1\u001b[39m)[\u001b[39m0\u001b[39m]\u001b[39m.\u001b[39msum()], color\u001b[39m=\u001b[39m\u001b[39m'\u001b[39m\u001b[39mg\u001b[39m\u001b[39m'\u001b[39m)\n\u001b[0;32m      <a href='vscode-notebook-cell:/d%3A/Project/KP/new_incV3_hand.ipynb#Y125sZmlsZQ%3D%3D?line=6'>7</a>\u001b[0m \u001b[39melse\u001b[39;00m :\n\u001b[0;32m      <a href='vscode-notebook-cell:/d%3A/Project/KP/new_incV3_hand.ipynb#Y125sZmlsZQ%3D%3D?line=7'>8</a>\u001b[0m   plt\u001b[39m.\u001b[39mtitle(encoder\u001b[39m.\u001b[39mclasses_[np\u001b[39m.\u001b[39mwhere(Y_pred[rand_num] \u001b[39m==\u001b[39m \u001b[39m1\u001b[39m)[\u001b[39m0\u001b[39m]\u001b[39m.\u001b[39msum()], color\u001b[39m=\u001b[39m\u001b[39m'\u001b[39m\u001b[39mr\u001b[39m\u001b[39m'\u001b[39m)\n",
      "\u001b[1;31mNameError\u001b[0m: name 'encoder' is not defined"
     ]
    },
    {
     "data": {
      "image/png": "[encoded data removed]",
      "text/plain": [
       "<Figure size 432x288 with 1 Axes>"
      ]
     },
     "metadata": {
      "needs_background": "light"
     },
     "output_type": "display_data"
    }
   ],
   "source": [
    "np.random.seed(89)\n",
    "for rand_num in np.random.randint(0, len(Y_test), 15):\n",
    "  plt.figure()\n",
    "  plt.imshow(X_test[rand_num].astype('int')), plt.axis('off')\n",
    "  if np.where(Y_pred[rand_num] == 1)[0].sum() == np.where(Y_test[rand_num] == 1)[0].sum():\n",
    "    plt.title(encoder.classes_[np.where(Y_pred[rand_num] == 1)[0].sum()], color='g')\n",
    "  else :\n",
    "    plt.title(encoder.classes_[np.where(Y_pred[rand_num] == 1)[0].sum()], color='r')"
   ]
  }
 ],
 "metadata": {
  "kernelspec": {
   "display_name": "Python 3.10.5 64-bit",
   "language": "python",
   "name": "python3"
  },
  "language_info": {
   "codemirror_mode": {
    "name": "ipython",
    "version": 3
   },
   "file_extension": ".py",
   "mimetype": "text/x-python",
   "name": "python",
   "nbconvert_exporter": "python",
   "pygments_lexer": "ipython3",
   "version": "3.10.5"
  },
  "orig_nbformat": 4,
  "vscode": {
   "interpreter": {
    "hash": "26de051ba29f2982a8de78e945f0abaf191376122a1563185a90213a26c5da77"
   }
  }
 },
 "nbformat": 4,
 "nbformat_minor": 2
}
